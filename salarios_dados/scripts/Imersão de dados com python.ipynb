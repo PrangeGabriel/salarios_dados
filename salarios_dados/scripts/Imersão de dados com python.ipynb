{
 "cells": [
  {
   "cell_type": "markdown",
   "metadata": {
    "id": "ZGUYDAY3niuV"
   },
   "source": [
    "# Aula 1 explorando dados com pandas."
   ]
  },
  {
   "cell_type": "code",
   "execution_count": 42,
   "metadata": {
    "executionInfo": {
     "elapsed": 7,
     "status": "ok",
     "timestamp": 1754952057880,
     "user": {
      "displayName": "Gabriel Prange",
      "userId": "11983387267216982138"
     },
     "user_tz": 180
    },
    "id": "cg81jO29QTaY"
   },
   "outputs": [],
   "source": [
    "import pandas as pd"
   ]
  },
  {
   "cell_type": "code",
   "execution_count": null,
   "metadata": {},
   "outputs": [],
   "source": [
    "# # Importando os dados para a pasta do projeto\n",
    "# df = pd.read_csv(\"https://raw.githubusercontent.com/guilhermeonrails/data-jobs/refs/heads/main/salaries.csv\")\n",
    "\n",
    "# df.to_csv('../dados/salaries.csv', index=False)"
   ]
  },
  {
   "cell_type": "markdown",
   "metadata": {
    "id": "D7RmAX33RYp8"
   },
   "source": [
    "# Carregando os dados"
   ]
  },
  {
   "cell_type": "code",
   "execution_count": 44,
   "metadata": {
    "executionInfo": {
     "elapsed": 388,
     "status": "ok",
     "timestamp": 1754952058277,
     "user": {
      "displayName": "Gabriel Prange",
      "userId": "11983387267216982138"
     },
     "user_tz": 180
    },
    "id": "6-U2QbQDQWM5"
   },
   "outputs": [],
   "source": [
    "df = pd.read_csv('../dados/salaries.csv')\n"
   ]
  },
  {
   "cell_type": "markdown",
   "metadata": {
    "id": "Si7Y1NG0RkVa"
   },
   "source": [
    "## Lendo as primeira linhas\n",
    "De cara já é possível perceber algumas informaçòes fora do padrão:\n",
    "\n",
    "1.   work_year está em float, mas deveria estar em date ou string.\n",
    "2.   remote_ratio parece uma verificação booleana de sim (100) ou não (0) para trabalho remoto. *(mas não é. vendo as ultimas linhas com o df.head(-5) percebe-se que há valores com 50, ou seja, é uma proporção mesmo)*\n",
    "\n",
    "\n"
   ]
  },
  {
   "cell_type": "code",
   "execution_count": 45,
   "metadata": {
    "colab": {
     "base_uri": "https://localhost:8080/",
     "height": 652
    },
    "executionInfo": {
     "elapsed": 68,
     "status": "ok",
     "timestamp": 1754952058347,
     "user": {
      "displayName": "Gabriel Prange",
      "userId": "11983387267216982138"
     },
     "user_tz": 180
    },
    "id": "tWkB_9lPRt58",
    "outputId": "2075fb2a-a102-49aa-d564-cc857999870a"
   },
   "outputs": [
    {
     "data": {
      "text/html": [
       "<div>\n",
       "<style scoped>\n",
       "    .dataframe tbody tr th:only-of-type {\n",
       "        vertical-align: middle;\n",
       "    }\n",
       "\n",
       "    .dataframe tbody tr th {\n",
       "        vertical-align: top;\n",
       "    }\n",
       "\n",
       "    .dataframe thead th {\n",
       "        text-align: right;\n",
       "    }\n",
       "</style>\n",
       "<table border=\"1\" class=\"dataframe\">\n",
       "  <thead>\n",
       "    <tr style=\"text-align: right;\">\n",
       "      <th></th>\n",
       "      <th>work_year</th>\n",
       "      <th>experience_level</th>\n",
       "      <th>employment_type</th>\n",
       "      <th>job_title</th>\n",
       "      <th>salary</th>\n",
       "      <th>salary_currency</th>\n",
       "      <th>salary_in_usd</th>\n",
       "      <th>employee_residence</th>\n",
       "      <th>remote_ratio</th>\n",
       "      <th>company_location</th>\n",
       "      <th>company_size</th>\n",
       "    </tr>\n",
       "  </thead>\n",
       "  <tbody>\n",
       "    <tr>\n",
       "      <th>0</th>\n",
       "      <td>2025.0</td>\n",
       "      <td>SE</td>\n",
       "      <td>FT</td>\n",
       "      <td>Solutions Engineer</td>\n",
       "      <td>214000</td>\n",
       "      <td>USD</td>\n",
       "      <td>214000</td>\n",
       "      <td>US</td>\n",
       "      <td>100</td>\n",
       "      <td>US</td>\n",
       "      <td>M</td>\n",
       "    </tr>\n",
       "    <tr>\n",
       "      <th>1</th>\n",
       "      <td>2025.0</td>\n",
       "      <td>SE</td>\n",
       "      <td>FT</td>\n",
       "      <td>Solutions Engineer</td>\n",
       "      <td>136000</td>\n",
       "      <td>USD</td>\n",
       "      <td>136000</td>\n",
       "      <td>US</td>\n",
       "      <td>100</td>\n",
       "      <td>US</td>\n",
       "      <td>M</td>\n",
       "    </tr>\n",
       "    <tr>\n",
       "      <th>2</th>\n",
       "      <td>2025.0</td>\n",
       "      <td>MI</td>\n",
       "      <td>FT</td>\n",
       "      <td>Data Engineer</td>\n",
       "      <td>158800</td>\n",
       "      <td>USD</td>\n",
       "      <td>158800</td>\n",
       "      <td>AU</td>\n",
       "      <td>0</td>\n",
       "      <td>AU</td>\n",
       "      <td>M</td>\n",
       "    </tr>\n",
       "    <tr>\n",
       "      <th>3</th>\n",
       "      <td>2025.0</td>\n",
       "      <td>MI</td>\n",
       "      <td>FT</td>\n",
       "      <td>Data Engineer</td>\n",
       "      <td>139200</td>\n",
       "      <td>USD</td>\n",
       "      <td>139200</td>\n",
       "      <td>AU</td>\n",
       "      <td>0</td>\n",
       "      <td>AU</td>\n",
       "      <td>M</td>\n",
       "    </tr>\n",
       "    <tr>\n",
       "      <th>4</th>\n",
       "      <td>2025.0</td>\n",
       "      <td>EN</td>\n",
       "      <td>FT</td>\n",
       "      <td>Data Engineer</td>\n",
       "      <td>90000</td>\n",
       "      <td>USD</td>\n",
       "      <td>90000</td>\n",
       "      <td>US</td>\n",
       "      <td>0</td>\n",
       "      <td>US</td>\n",
       "      <td>M</td>\n",
       "    </tr>\n",
       "    <tr>\n",
       "      <th>...</th>\n",
       "      <td>...</td>\n",
       "      <td>...</td>\n",
       "      <td>...</td>\n",
       "      <td>...</td>\n",
       "      <td>...</td>\n",
       "      <td>...</td>\n",
       "      <td>...</td>\n",
       "      <td>...</td>\n",
       "      <td>...</td>\n",
       "      <td>...</td>\n",
       "      <td>...</td>\n",
       "    </tr>\n",
       "    <tr>\n",
       "      <th>133339</th>\n",
       "      <td>2021.0</td>\n",
       "      <td>SE</td>\n",
       "      <td>FT</td>\n",
       "      <td>Data Scientist</td>\n",
       "      <td>168000</td>\n",
       "      <td>USD</td>\n",
       "      <td>168000</td>\n",
       "      <td>JP</td>\n",
       "      <td>0</td>\n",
       "      <td>JP</td>\n",
       "      <td>S</td>\n",
       "    </tr>\n",
       "    <tr>\n",
       "      <th>133340</th>\n",
       "      <td>2021.0</td>\n",
       "      <td>MI</td>\n",
       "      <td>FT</td>\n",
       "      <td>Data Scientist</td>\n",
       "      <td>160000</td>\n",
       "      <td>SGD</td>\n",
       "      <td>119059</td>\n",
       "      <td>SG</td>\n",
       "      <td>100</td>\n",
       "      <td>IL</td>\n",
       "      <td>M</td>\n",
       "    </tr>\n",
       "    <tr>\n",
       "      <th>133341</th>\n",
       "      <td>2021.0</td>\n",
       "      <td>MI</td>\n",
       "      <td>FT</td>\n",
       "      <td>Applied Machine Learning Scientist</td>\n",
       "      <td>423000</td>\n",
       "      <td>USD</td>\n",
       "      <td>423000</td>\n",
       "      <td>US</td>\n",
       "      <td>50</td>\n",
       "      <td>US</td>\n",
       "      <td>L</td>\n",
       "    </tr>\n",
       "    <tr>\n",
       "      <th>133342</th>\n",
       "      <td>2021.0</td>\n",
       "      <td>MI</td>\n",
       "      <td>FT</td>\n",
       "      <td>Data Engineer</td>\n",
       "      <td>24000</td>\n",
       "      <td>EUR</td>\n",
       "      <td>28369</td>\n",
       "      <td>MT</td>\n",
       "      <td>50</td>\n",
       "      <td>MT</td>\n",
       "      <td>L</td>\n",
       "    </tr>\n",
       "    <tr>\n",
       "      <th>133343</th>\n",
       "      <td>2021.0</td>\n",
       "      <td>SE</td>\n",
       "      <td>FT</td>\n",
       "      <td>Data Specialist</td>\n",
       "      <td>165000</td>\n",
       "      <td>USD</td>\n",
       "      <td>165000</td>\n",
       "      <td>US</td>\n",
       "      <td>100</td>\n",
       "      <td>US</td>\n",
       "      <td>L</td>\n",
       "    </tr>\n",
       "  </tbody>\n",
       "</table>\n",
       "<p>133344 rows × 11 columns</p>\n",
       "</div>"
      ],
      "text/plain": [
       "        work_year experience_level employment_type  \\\n",
       "0          2025.0               SE              FT   \n",
       "1          2025.0               SE              FT   \n",
       "2          2025.0               MI              FT   \n",
       "3          2025.0               MI              FT   \n",
       "4          2025.0               EN              FT   \n",
       "...           ...              ...             ...   \n",
       "133339     2021.0               SE              FT   \n",
       "133340     2021.0               MI              FT   \n",
       "133341     2021.0               MI              FT   \n",
       "133342     2021.0               MI              FT   \n",
       "133343     2021.0               SE              FT   \n",
       "\n",
       "                                 job_title  salary salary_currency  \\\n",
       "0                       Solutions Engineer  214000             USD   \n",
       "1                       Solutions Engineer  136000             USD   \n",
       "2                            Data Engineer  158800             USD   \n",
       "3                            Data Engineer  139200             USD   \n",
       "4                            Data Engineer   90000             USD   \n",
       "...                                    ...     ...             ...   \n",
       "133339                      Data Scientist  168000             USD   \n",
       "133340                      Data Scientist  160000             SGD   \n",
       "133341  Applied Machine Learning Scientist  423000             USD   \n",
       "133342                       Data Engineer   24000             EUR   \n",
       "133343                     Data Specialist  165000             USD   \n",
       "\n",
       "        salary_in_usd employee_residence  remote_ratio company_location  \\\n",
       "0              214000                 US           100               US   \n",
       "1              136000                 US           100               US   \n",
       "2              158800                 AU             0               AU   \n",
       "3              139200                 AU             0               AU   \n",
       "4               90000                 US             0               US   \n",
       "...               ...                ...           ...              ...   \n",
       "133339         168000                 JP             0               JP   \n",
       "133340         119059                 SG           100               IL   \n",
       "133341         423000                 US            50               US   \n",
       "133342          28369                 MT            50               MT   \n",
       "133343         165000                 US           100               US   \n",
       "\n",
       "       company_size  \n",
       "0                 M  \n",
       "1                 M  \n",
       "2                 M  \n",
       "3                 M  \n",
       "4                 M  \n",
       "...             ...  \n",
       "133339            S  \n",
       "133340            M  \n",
       "133341            L  \n",
       "133342            L  \n",
       "133343            L  \n",
       "\n",
       "[133344 rows x 11 columns]"
      ]
     },
     "execution_count": 45,
     "metadata": {},
     "output_type": "execute_result"
    }
   ],
   "source": [
    "df.head(5)\n",
    "df.head(-5)"
   ]
  },
  {
   "cell_type": "markdown",
   "metadata": {
    "id": "0CxCtoVBR5-O"
   },
   "source": [
    "# Informações da tabela\n"
   ]
  },
  {
   "cell_type": "code",
   "execution_count": 46,
   "metadata": {
    "colab": {
     "base_uri": "https://localhost:8080/"
    },
    "executionInfo": {
     "elapsed": 25,
     "status": "ok",
     "timestamp": 1754952058369,
     "user": {
      "displayName": "Gabriel Prange",
      "userId": "11983387267216982138"
     },
     "user_tz": 180
    },
    "id": "0GY4fkL4R8yI",
    "outputId": "372d4b87-4454-42b0-9d6a-af50a29cc599"
   },
   "outputs": [
    {
     "name": "stdout",
     "output_type": "stream",
     "text": [
      "<class 'pandas.core.frame.DataFrame'>\n",
      "RangeIndex: 133349 entries, 0 to 133348\n",
      "Data columns (total 11 columns):\n",
      " #   Column              Non-Null Count   Dtype  \n",
      "---  ------              --------------   -----  \n",
      " 0   work_year           133339 non-null  float64\n",
      " 1   experience_level    133349 non-null  object \n",
      " 2   employment_type     133349 non-null  object \n",
      " 3   job_title           133349 non-null  object \n",
      " 4   salary              133349 non-null  int64  \n",
      " 5   salary_currency     133349 non-null  object \n",
      " 6   salary_in_usd       133349 non-null  int64  \n",
      " 7   employee_residence  133349 non-null  object \n",
      " 8   remote_ratio        133349 non-null  int64  \n",
      " 9   company_location    133349 non-null  object \n",
      " 10  company_size        133349 non-null  object \n",
      "dtypes: float64(1), int64(3), object(7)\n",
      "memory usage: 11.2+ MB\n"
     ]
    }
   ],
   "source": [
    "df.info()"
   ]
  },
  {
   "cell_type": "markdown",
   "metadata": {
    "id": "Ouh-X6DSXpso"
   },
   "source": [
    "# Descreve os dados através de estatisticas descritivas"
   ]
  },
  {
   "cell_type": "code",
   "execution_count": 47,
   "metadata": {
    "colab": {
     "base_uri": "https://localhost:8080/",
     "height": 300
    },
    "executionInfo": {
     "elapsed": 116,
     "status": "ok",
     "timestamp": 1754952058476,
     "user": {
      "displayName": "Gabriel Prange",
      "userId": "11983387267216982138"
     },
     "user_tz": 180
    },
    "id": "rCvLXizjT3ay",
    "outputId": "faead985-7922-4e00-eb55-085853d7cb24"
   },
   "outputs": [
    {
     "data": {
      "text/html": [
       "<div>\n",
       "<style scoped>\n",
       "    .dataframe tbody tr th:only-of-type {\n",
       "        vertical-align: middle;\n",
       "    }\n",
       "\n",
       "    .dataframe tbody tr th {\n",
       "        vertical-align: top;\n",
       "    }\n",
       "\n",
       "    .dataframe thead th {\n",
       "        text-align: right;\n",
       "    }\n",
       "</style>\n",
       "<table border=\"1\" class=\"dataframe\">\n",
       "  <thead>\n",
       "    <tr style=\"text-align: right;\">\n",
       "      <th></th>\n",
       "      <th>work_year</th>\n",
       "      <th>salary</th>\n",
       "      <th>salary_in_usd</th>\n",
       "      <th>remote_ratio</th>\n",
       "    </tr>\n",
       "  </thead>\n",
       "  <tbody>\n",
       "    <tr>\n",
       "      <th>count</th>\n",
       "      <td>133339.000000</td>\n",
       "      <td>1.333490e+05</td>\n",
       "      <td>133349.000000</td>\n",
       "      <td>133349.000000</td>\n",
       "    </tr>\n",
       "    <tr>\n",
       "      <th>mean</th>\n",
       "      <td>2024.358770</td>\n",
       "      <td>1.632833e+05</td>\n",
       "      <td>157617.272098</td>\n",
       "      <td>20.905669</td>\n",
       "    </tr>\n",
       "    <tr>\n",
       "      <th>std</th>\n",
       "      <td>0.680627</td>\n",
       "      <td>2.173860e+05</td>\n",
       "      <td>74288.363097</td>\n",
       "      <td>40.590044</td>\n",
       "    </tr>\n",
       "    <tr>\n",
       "      <th>min</th>\n",
       "      <td>2020.000000</td>\n",
       "      <td>1.400000e+04</td>\n",
       "      <td>15000.000000</td>\n",
       "      <td>0.000000</td>\n",
       "    </tr>\n",
       "    <tr>\n",
       "      <th>25%</th>\n",
       "      <td>2024.000000</td>\n",
       "      <td>1.060200e+05</td>\n",
       "      <td>106000.000000</td>\n",
       "      <td>0.000000</td>\n",
       "    </tr>\n",
       "    <tr>\n",
       "      <th>50%</th>\n",
       "      <td>2024.000000</td>\n",
       "      <td>1.470000e+05</td>\n",
       "      <td>146206.000000</td>\n",
       "      <td>0.000000</td>\n",
       "    </tr>\n",
       "    <tr>\n",
       "      <th>75%</th>\n",
       "      <td>2025.000000</td>\n",
       "      <td>1.990000e+05</td>\n",
       "      <td>198000.000000</td>\n",
       "      <td>0.000000</td>\n",
       "    </tr>\n",
       "    <tr>\n",
       "      <th>max</th>\n",
       "      <td>2025.000000</td>\n",
       "      <td>3.040000e+07</td>\n",
       "      <td>800000.000000</td>\n",
       "      <td>100.000000</td>\n",
       "    </tr>\n",
       "  </tbody>\n",
       "</table>\n",
       "</div>"
      ],
      "text/plain": [
       "           work_year        salary  salary_in_usd   remote_ratio\n",
       "count  133339.000000  1.333490e+05  133349.000000  133349.000000\n",
       "mean     2024.358770  1.632833e+05  157617.272098      20.905669\n",
       "std         0.680627  2.173860e+05   74288.363097      40.590044\n",
       "min      2020.000000  1.400000e+04   15000.000000       0.000000\n",
       "25%      2024.000000  1.060200e+05  106000.000000       0.000000\n",
       "50%      2024.000000  1.470000e+05  146206.000000       0.000000\n",
       "75%      2025.000000  1.990000e+05  198000.000000       0.000000\n",
       "max      2025.000000  3.040000e+07  800000.000000     100.000000"
      ]
     },
     "execution_count": 47,
     "metadata": {},
     "output_type": "execute_result"
    }
   ],
   "source": [
    "df.describe()\n",
    "# df.describe(include=\"all\")\n",
    "# df.describe(include=\"object\")"
   ]
  },
  {
   "cell_type": "markdown",
   "metadata": {
    "id": "jCk84jv3YDiK"
   },
   "source": [
    "# Retorna o \"formato\" do dataframe (linhas, colunas).\n",
    "Por ser atributo, nao usa parentesis no final (método)"
   ]
  },
  {
   "cell_type": "code",
   "execution_count": 48,
   "metadata": {
    "colab": {
     "base_uri": "https://localhost:8080/"
    },
    "executionInfo": {
     "elapsed": 54,
     "status": "ok",
     "timestamp": 1754952058529,
     "user": {
      "displayName": "Gabriel Prange",
      "userId": "11983387267216982138"
     },
     "user_tz": 180
    },
    "id": "NdAyIwgTW-Xj",
    "outputId": "8828f285-95a9-4c0c-ae9c-c5f213ab46e6"
   },
   "outputs": [
    {
     "data": {
      "text/plain": [
       "(133349, 11)"
      ]
     },
     "execution_count": 48,
     "metadata": {},
     "output_type": "execute_result"
    }
   ],
   "source": [
    "df.shape"
   ]
  },
  {
   "cell_type": "code",
   "execution_count": 49,
   "metadata": {
    "colab": {
     "base_uri": "https://localhost:8080/"
    },
    "executionInfo": {
     "elapsed": 36,
     "status": "ok",
     "timestamp": 1754952058529,
     "user": {
      "displayName": "Gabriel Prange",
      "userId": "11983387267216982138"
     },
     "user_tz": 180
    },
    "id": "41nCatnZZa_5",
    "outputId": "c53606a1-c3cd-42d7-8cd9-3639e1101035"
   },
   "outputs": [
    {
     "name": "stdout",
     "output_type": "stream",
     "text": [
      "linhas: 133349\n",
      "colunas: 11\n"
     ]
    }
   ],
   "source": [
    "linhas, colunas = df.shape[0], df.shape[1]\n",
    "print(\"linhas:\", linhas)\n",
    "print(\"colunas:\", colunas)"
   ]
  },
  {
   "cell_type": "markdown",
   "metadata": {
    "id": "r_pxPE2tdcWD"
   },
   "source": [
    "# Renomeando as colunas para português."
   ]
  },
  {
   "cell_type": "code",
   "execution_count": 50,
   "metadata": {
    "colab": {
     "base_uri": "https://localhost:8080/"
    },
    "executionInfo": {
     "elapsed": 12,
     "status": "ok",
     "timestamp": 1754952058529,
     "user": {
      "displayName": "Gabriel Prange",
      "userId": "11983387267216982138"
     },
     "user_tz": 180
    },
    "id": "LNqAUhSra3Oa",
    "outputId": "c0888b44-99ff-4173-c3fc-aa3488363a8f"
   },
   "outputs": [
    {
     "data": {
      "text/plain": [
       "Index(['work_year', 'experience_level', 'employment_type', 'job_title',\n",
       "       'salary', 'salary_currency', 'salary_in_usd', 'employee_residence',\n",
       "       'remote_ratio', 'company_location', 'company_size'],\n",
       "      dtype='object')"
      ]
     },
     "execution_count": 50,
     "metadata": {},
     "output_type": "execute_result"
    }
   ],
   "source": [
    "df.columns"
   ]
  },
  {
   "cell_type": "code",
   "execution_count": 51,
   "metadata": {
    "executionInfo": {
     "elapsed": 18,
     "status": "ok",
     "timestamp": 1754952058545,
     "user": {
      "displayName": "Gabriel Prange",
      "userId": "11983387267216982138"
     },
     "user_tz": 180
    },
    "id": "PBOhNkJDjDXK"
   },
   "outputs": [],
   "source": [
    "renomear_colunas = {\n",
    "    'work_year':'ano',\n",
    "    'experience_level': 'senioridade',\n",
    "    'employment_type':'contrato',\n",
    "    'job_title':'cargo',\n",
    "    'salary': 'salario',\n",
    "    'salary_currency': 'moeda',\n",
    "    'salary_in_usd': 'usd',\n",
    "    'employee_residence': 'residencia',\n",
    "    'remote_ratio': 'remoto',\n",
    "    'company_location':'empresa',\n",
    "    'company_size': 'tamanho_empresa'\n",
    "}\n",
    "\n",
    "df = df.rename(columns=renomear_colunas)"
   ]
  },
  {
   "cell_type": "code",
   "execution_count": 52,
   "metadata": {
    "colab": {
     "base_uri": "https://localhost:8080/",
     "height": 241
    },
    "executionInfo": {
     "elapsed": 4,
     "status": "ok",
     "timestamp": 1754952058546,
     "user": {
      "displayName": "Gabriel Prange",
      "userId": "11983387267216982138"
     },
     "user_tz": 180
    },
    "id": "wSauLXFTcMkf",
    "outputId": "2680c927-f5ca-4389-acb9-da140f10d9ab"
   },
   "outputs": [
    {
     "data": {
      "text/plain": [
       "senioridade\n",
       "SE    77241\n",
       "MI    40465\n",
       "EN    12443\n",
       "EX     3200\n",
       "Name: count, dtype: int64"
      ]
     },
     "execution_count": 52,
     "metadata": {},
     "output_type": "execute_result"
    }
   ],
   "source": [
    "#Renomeando valores para melhorar legibilidade\n",
    "\n",
    "df[\"senioridade\"].value_counts()"
   ]
  },
  {
   "cell_type": "code",
   "execution_count": 53,
   "metadata": {
    "colab": {
     "base_uri": "https://localhost:8080/",
     "height": 241
    },
    "executionInfo": {
     "elapsed": 53,
     "status": "ok",
     "timestamp": 1754952058610,
     "user": {
      "displayName": "Gabriel Prange",
      "userId": "11983387267216982138"
     },
     "user_tz": 180
    },
    "id": "z6bZiuZRlka_",
    "outputId": "5b5703eb-318e-4b72-8f26-1aac9df3994c"
   },
   "outputs": [
    {
     "data": {
      "text/plain": [
       "senioridade\n",
       "Senior       77241\n",
       "Pleno        40465\n",
       "Junior       12443\n",
       "Executivo     3200\n",
       "Name: count, dtype: int64"
      ]
     },
     "execution_count": 53,
     "metadata": {},
     "output_type": "execute_result"
    }
   ],
   "source": [
    "substituir_senioridade = {\n",
    "    \"SE\": \"Senior\",\n",
    "    \"MI\": \"Pleno\",\n",
    "    \"EN\": \"Junior\",\n",
    "    \"EX\": \"Executivo\"\n",
    "}\n",
    "\n",
    "df[\"senioridade\"] = df[\"senioridade\"].map(substituir_senioridade)\n",
    "df[\"senioridade\"].value_counts()"
   ]
  },
  {
   "cell_type": "code",
   "execution_count": 54,
   "metadata": {
    "colab": {
     "base_uri": "https://localhost:8080/",
     "height": 241
    },
    "executionInfo": {
     "elapsed": 6,
     "status": "ok",
     "timestamp": 1754952058610,
     "user": {
      "displayName": "Gabriel Prange",
      "userId": "11983387267216982138"
     },
     "user_tz": 180
    },
    "id": "mr6bqfyNgA31",
    "outputId": "377c9226-2924-4128-f3f9-7a8c05c2d7a5"
   },
   "outputs": [
    {
     "data": {
      "text/plain": [
       "contrato\n",
       "FT    132563\n",
       "CT       394\n",
       "PT       376\n",
       "FL        16\n",
       "Name: count, dtype: int64"
      ]
     },
     "execution_count": 54,
     "metadata": {},
     "output_type": "execute_result"
    }
   ],
   "source": [
    "df['contrato'].value_counts()"
   ]
  },
  {
   "cell_type": "code",
   "execution_count": 55,
   "metadata": {
    "colab": {
     "base_uri": "https://localhost:8080/",
     "height": 241
    },
    "executionInfo": {
     "elapsed": 40,
     "status": "ok",
     "timestamp": 1754952058648,
     "user": {
      "displayName": "Gabriel Prange",
      "userId": "11983387267216982138"
     },
     "user_tz": 180
    },
    "id": "BVIjXL1nomaj",
    "outputId": "616691a0-5f9d-4382-ddd4-2243ba77d1bd"
   },
   "outputs": [
    {
     "data": {
      "text/plain": [
       "contrato\n",
       "Tempo Integral    132563\n",
       "Contrato             394\n",
       "Tempo Parcial        376\n",
       "Freelance             16\n",
       "Name: count, dtype: int64"
      ]
     },
     "execution_count": 55,
     "metadata": {},
     "output_type": "execute_result"
    }
   ],
   "source": [
    "substituir_contrato = {\n",
    "    'FT': 'Tempo Integral',\n",
    "    'PT': 'Tempo Parcial',\n",
    "    'FL': 'Freelance',\n",
    "    'CT': 'Contrato'\n",
    "}\n",
    "\n",
    "df['contrato'] = df['contrato'].map(substituir_contrato)\n",
    "df['contrato'].value_counts()"
   ]
  },
  {
   "cell_type": "code",
   "execution_count": 56,
   "metadata": {
    "colab": {
     "base_uri": "https://localhost:8080/",
     "height": 210
    },
    "executionInfo": {
     "elapsed": 66,
     "status": "ok",
     "timestamp": 1754952058715,
     "user": {
      "displayName": "Gabriel Prange",
      "userId": "11983387267216982138"
     },
     "user_tz": 180
    },
    "id": "REUeiv4Zoyzm",
    "outputId": "1443dbde-8760-4a16-a9b6-4a447a0c6aa2"
   },
   "outputs": [
    {
     "data": {
      "text/plain": [
       "tamanho_empresa\n",
       "M    129561\n",
       "L      3574\n",
       "S       214\n",
       "Name: count, dtype: int64"
      ]
     },
     "execution_count": 56,
     "metadata": {},
     "output_type": "execute_result"
    }
   ],
   "source": [
    "df['tamanho_empresa'].value_counts()"
   ]
  },
  {
   "cell_type": "code",
   "execution_count": 57,
   "metadata": {
    "colab": {
     "base_uri": "https://localhost:8080/",
     "height": 210
    },
    "executionInfo": {
     "elapsed": 31,
     "status": "ok",
     "timestamp": 1754952058743,
     "user": {
      "displayName": "Gabriel Prange",
      "userId": "11983387267216982138"
     },
     "user_tz": 180
    },
    "id": "U36pqcOIo6o3",
    "outputId": "92d14b5b-b43e-40ca-bca4-b72495e4722f"
   },
   "outputs": [
    {
     "data": {
      "text/plain": [
       "tamanho_empresa\n",
       "Média      129561\n",
       "Grande       3574\n",
       "Pequena       214\n",
       "Name: count, dtype: int64"
      ]
     },
     "execution_count": 57,
     "metadata": {},
     "output_type": "execute_result"
    }
   ],
   "source": [
    "substituir_tamanho_empresa = {\n",
    "    'S': 'Pequena',\n",
    "    'M': 'Média',\n",
    "    'L': 'Grande'\n",
    "}\n",
    "\n",
    "df['tamanho_empresa'] = df['tamanho_empresa'].map(substituir_tamanho_empresa)\n",
    "df['tamanho_empresa'].value_counts()"
   ]
  },
  {
   "cell_type": "code",
   "execution_count": 58,
   "metadata": {
    "colab": {
     "base_uri": "https://localhost:8080/",
     "height": 210
    },
    "executionInfo": {
     "elapsed": 69,
     "status": "ok",
     "timestamp": 1754952058785,
     "user": {
      "displayName": "Gabriel Prange",
      "userId": "11983387267216982138"
     },
     "user_tz": 180
    },
    "id": "O60uWulFpWrJ",
    "outputId": "1a7e7c6b-ad4c-463a-b469-87bf70d8f289"
   },
   "outputs": [
    {
     "data": {
      "text/plain": [
       "remoto\n",
       "0      105312\n",
       "100     27718\n",
       "50        319\n",
       "Name: count, dtype: int64"
      ]
     },
     "execution_count": 58,
     "metadata": {},
     "output_type": "execute_result"
    }
   ],
   "source": [
    "df['remoto'].value_counts()"
   ]
  },
  {
   "cell_type": "code",
   "execution_count": 59,
   "metadata": {
    "colab": {
     "base_uri": "https://localhost:8080/",
     "height": 210
    },
    "executionInfo": {
     "elapsed": 12,
     "status": "ok",
     "timestamp": 1754952058797,
     "user": {
      "displayName": "Gabriel Prange",
      "userId": "11983387267216982138"
     },
     "user_tz": 180
    },
    "id": "hb07inX1pfhj",
    "outputId": "6d42fdfc-1435-4b02-b4c1-68c4fd901871"
   },
   "outputs": [
    {
     "data": {
      "text/plain": [
       "remoto\n",
       "Presencial    105312\n",
       "Remoto         27718\n",
       "Híbrido          319\n",
       "Name: count, dtype: int64"
      ]
     },
     "execution_count": 59,
     "metadata": {},
     "output_type": "execute_result"
    }
   ],
   "source": [
    "substituir_remoto = {\n",
    "    0: 'Presencial',\n",
    "    50: 'Híbrido',\n",
    "    100: 'Remoto'\n",
    "}\n",
    "\n",
    "df['remoto'] = df['remoto'].map(substituir_remoto)\n",
    "df['remoto'].value_counts()\n"
   ]
  },
  {
   "cell_type": "code",
   "execution_count": 60,
   "metadata": {
    "colab": {
     "base_uri": "https://localhost:8080/",
     "height": 206
    },
    "executionInfo": {
     "elapsed": 28,
     "status": "ok",
     "timestamp": 1754952058834,
     "user": {
      "displayName": "Gabriel Prange",
      "userId": "11983387267216982138"
     },
     "user_tz": 180
    },
    "id": "rxH0DYPkpsNG",
    "outputId": "5f10f91e-0f4b-44d4-86f3-7b444a092b0d"
   },
   "outputs": [
    {
     "data": {
      "text/html": [
       "<div>\n",
       "<style scoped>\n",
       "    .dataframe tbody tr th:only-of-type {\n",
       "        vertical-align: middle;\n",
       "    }\n",
       "\n",
       "    .dataframe tbody tr th {\n",
       "        vertical-align: top;\n",
       "    }\n",
       "\n",
       "    .dataframe thead th {\n",
       "        text-align: right;\n",
       "    }\n",
       "</style>\n",
       "<table border=\"1\" class=\"dataframe\">\n",
       "  <thead>\n",
       "    <tr style=\"text-align: right;\">\n",
       "      <th></th>\n",
       "      <th>ano</th>\n",
       "      <th>senioridade</th>\n",
       "      <th>contrato</th>\n",
       "      <th>cargo</th>\n",
       "      <th>salario</th>\n",
       "      <th>moeda</th>\n",
       "      <th>usd</th>\n",
       "      <th>residencia</th>\n",
       "      <th>remoto</th>\n",
       "      <th>empresa</th>\n",
       "      <th>tamanho_empresa</th>\n",
       "    </tr>\n",
       "  </thead>\n",
       "  <tbody>\n",
       "    <tr>\n",
       "      <th>0</th>\n",
       "      <td>2025.0</td>\n",
       "      <td>Senior</td>\n",
       "      <td>Tempo Integral</td>\n",
       "      <td>Solutions Engineer</td>\n",
       "      <td>214000</td>\n",
       "      <td>USD</td>\n",
       "      <td>214000</td>\n",
       "      <td>US</td>\n",
       "      <td>Remoto</td>\n",
       "      <td>US</td>\n",
       "      <td>Média</td>\n",
       "    </tr>\n",
       "    <tr>\n",
       "      <th>1</th>\n",
       "      <td>2025.0</td>\n",
       "      <td>Senior</td>\n",
       "      <td>Tempo Integral</td>\n",
       "      <td>Solutions Engineer</td>\n",
       "      <td>136000</td>\n",
       "      <td>USD</td>\n",
       "      <td>136000</td>\n",
       "      <td>US</td>\n",
       "      <td>Remoto</td>\n",
       "      <td>US</td>\n",
       "      <td>Média</td>\n",
       "    </tr>\n",
       "    <tr>\n",
       "      <th>2</th>\n",
       "      <td>2025.0</td>\n",
       "      <td>Pleno</td>\n",
       "      <td>Tempo Integral</td>\n",
       "      <td>Data Engineer</td>\n",
       "      <td>158800</td>\n",
       "      <td>USD</td>\n",
       "      <td>158800</td>\n",
       "      <td>AU</td>\n",
       "      <td>Presencial</td>\n",
       "      <td>AU</td>\n",
       "      <td>Média</td>\n",
       "    </tr>\n",
       "    <tr>\n",
       "      <th>3</th>\n",
       "      <td>2025.0</td>\n",
       "      <td>Pleno</td>\n",
       "      <td>Tempo Integral</td>\n",
       "      <td>Data Engineer</td>\n",
       "      <td>139200</td>\n",
       "      <td>USD</td>\n",
       "      <td>139200</td>\n",
       "      <td>AU</td>\n",
       "      <td>Presencial</td>\n",
       "      <td>AU</td>\n",
       "      <td>Média</td>\n",
       "    </tr>\n",
       "    <tr>\n",
       "      <th>4</th>\n",
       "      <td>2025.0</td>\n",
       "      <td>Junior</td>\n",
       "      <td>Tempo Integral</td>\n",
       "      <td>Data Engineer</td>\n",
       "      <td>90000</td>\n",
       "      <td>USD</td>\n",
       "      <td>90000</td>\n",
       "      <td>US</td>\n",
       "      <td>Presencial</td>\n",
       "      <td>US</td>\n",
       "      <td>Média</td>\n",
       "    </tr>\n",
       "  </tbody>\n",
       "</table>\n",
       "</div>"
      ],
      "text/plain": [
       "      ano senioridade        contrato               cargo  salario moeda  \\\n",
       "0  2025.0      Senior  Tempo Integral  Solutions Engineer   214000   USD   \n",
       "1  2025.0      Senior  Tempo Integral  Solutions Engineer   136000   USD   \n",
       "2  2025.0       Pleno  Tempo Integral       Data Engineer   158800   USD   \n",
       "3  2025.0       Pleno  Tempo Integral       Data Engineer   139200   USD   \n",
       "4  2025.0      Junior  Tempo Integral       Data Engineer    90000   USD   \n",
       "\n",
       "      usd residencia      remoto empresa tamanho_empresa  \n",
       "0  214000         US      Remoto      US           Média  \n",
       "1  136000         US      Remoto      US           Média  \n",
       "2  158800         AU  Presencial      AU           Média  \n",
       "3  139200         AU  Presencial      AU           Média  \n",
       "4   90000         US  Presencial      US           Média  "
      ]
     },
     "execution_count": 60,
     "metadata": {},
     "output_type": "execute_result"
    }
   ],
   "source": [
    "df.head(5)"
   ]
  },
  {
   "cell_type": "markdown",
   "metadata": {
    "id": "f-w_0imYqcDF"
   },
   "source": [
    "#descreve os dados depois de mudar\n",
    "top = mostra a linha mais frequente.\n",
    "freq = quantas vezes essa linha se repetiu"
   ]
  },
  {
   "cell_type": "code",
   "execution_count": 61,
   "metadata": {
    "colab": {
     "base_uri": "https://localhost:8080/",
     "height": 175
    },
    "executionInfo": {
     "elapsed": 337,
     "status": "ok",
     "timestamp": 1754952059169,
     "user": {
      "displayName": "Gabriel Prange",
      "userId": "11983387267216982138"
     },
     "user_tz": 180
    },
    "id": "D6JkJ8tgp4K8",
    "outputId": "47f48aa7-9400-45be-c4f7-c183fc19eefa"
   },
   "outputs": [
    {
     "data": {
      "text/html": [
       "<div>\n",
       "<style scoped>\n",
       "    .dataframe tbody tr th:only-of-type {\n",
       "        vertical-align: middle;\n",
       "    }\n",
       "\n",
       "    .dataframe tbody tr th {\n",
       "        vertical-align: top;\n",
       "    }\n",
       "\n",
       "    .dataframe thead th {\n",
       "        text-align: right;\n",
       "    }\n",
       "</style>\n",
       "<table border=\"1\" class=\"dataframe\">\n",
       "  <thead>\n",
       "    <tr style=\"text-align: right;\">\n",
       "      <th></th>\n",
       "      <th>senioridade</th>\n",
       "      <th>contrato</th>\n",
       "      <th>cargo</th>\n",
       "      <th>moeda</th>\n",
       "      <th>residencia</th>\n",
       "      <th>remoto</th>\n",
       "      <th>empresa</th>\n",
       "      <th>tamanho_empresa</th>\n",
       "    </tr>\n",
       "  </thead>\n",
       "  <tbody>\n",
       "    <tr>\n",
       "      <th>count</th>\n",
       "      <td>133349</td>\n",
       "      <td>133349</td>\n",
       "      <td>133349</td>\n",
       "      <td>133349</td>\n",
       "      <td>133349</td>\n",
       "      <td>133349</td>\n",
       "      <td>133349</td>\n",
       "      <td>133349</td>\n",
       "    </tr>\n",
       "    <tr>\n",
       "      <th>unique</th>\n",
       "      <td>4</td>\n",
       "      <td>4</td>\n",
       "      <td>390</td>\n",
       "      <td>26</td>\n",
       "      <td>102</td>\n",
       "      <td>3</td>\n",
       "      <td>95</td>\n",
       "      <td>3</td>\n",
       "    </tr>\n",
       "    <tr>\n",
       "      <th>top</th>\n",
       "      <td>Senior</td>\n",
       "      <td>Tempo Integral</td>\n",
       "      <td>Data Scientist</td>\n",
       "      <td>USD</td>\n",
       "      <td>US</td>\n",
       "      <td>Presencial</td>\n",
       "      <td>US</td>\n",
       "      <td>Média</td>\n",
       "    </tr>\n",
       "    <tr>\n",
       "      <th>freq</th>\n",
       "      <td>77241</td>\n",
       "      <td>132563</td>\n",
       "      <td>17314</td>\n",
       "      <td>126140</td>\n",
       "      <td>119579</td>\n",
       "      <td>105312</td>\n",
       "      <td>119641</td>\n",
       "      <td>129561</td>\n",
       "    </tr>\n",
       "  </tbody>\n",
       "</table>\n",
       "</div>"
      ],
      "text/plain": [
       "       senioridade        contrato           cargo   moeda residencia  \\\n",
       "count       133349          133349          133349  133349     133349   \n",
       "unique           4               4             390      26        102   \n",
       "top         Senior  Tempo Integral  Data Scientist     USD         US   \n",
       "freq         77241          132563           17314  126140     119579   \n",
       "\n",
       "            remoto empresa tamanho_empresa  \n",
       "count       133349  133349          133349  \n",
       "unique           3      95               3  \n",
       "top     Presencial      US           Média  \n",
       "freq        105312  119641          129561  "
      ]
     },
     "execution_count": 61,
     "metadata": {},
     "output_type": "execute_result"
    }
   ],
   "source": [
    "df.describe(include=\"object\")"
   ]
  },
  {
   "cell_type": "markdown",
   "metadata": {
    "id": "OTw_1z7OnRIN"
   },
   "source": [
    "#Aula 2 Aprenda a limpar e preparar os dados"
   ]
  },
  {
   "cell_type": "code",
   "execution_count": 62,
   "metadata": {
    "colab": {
     "base_uri": "https://localhost:8080/",
     "height": 206
    },
    "executionInfo": {
     "elapsed": 25,
     "status": "ok",
     "timestamp": 1754952059195,
     "user": {
      "displayName": "Gabriel Prange",
      "userId": "11983387267216982138"
     },
     "user_tz": 180
    },
    "id": "szHSapcOnWuR",
    "outputId": "d532491f-1333-4f23-afa4-a391df08594a"
   },
   "outputs": [
    {
     "data": {
      "text/html": [
       "<div>\n",
       "<style scoped>\n",
       "    .dataframe tbody tr th:only-of-type {\n",
       "        vertical-align: middle;\n",
       "    }\n",
       "\n",
       "    .dataframe tbody tr th {\n",
       "        vertical-align: top;\n",
       "    }\n",
       "\n",
       "    .dataframe thead th {\n",
       "        text-align: right;\n",
       "    }\n",
       "</style>\n",
       "<table border=\"1\" class=\"dataframe\">\n",
       "  <thead>\n",
       "    <tr style=\"text-align: right;\">\n",
       "      <th></th>\n",
       "      <th>ano</th>\n",
       "      <th>senioridade</th>\n",
       "      <th>contrato</th>\n",
       "      <th>cargo</th>\n",
       "      <th>salario</th>\n",
       "      <th>moeda</th>\n",
       "      <th>usd</th>\n",
       "      <th>residencia</th>\n",
       "      <th>remoto</th>\n",
       "      <th>empresa</th>\n",
       "      <th>tamanho_empresa</th>\n",
       "    </tr>\n",
       "  </thead>\n",
       "  <tbody>\n",
       "    <tr>\n",
       "      <th>0</th>\n",
       "      <td>2025.0</td>\n",
       "      <td>Senior</td>\n",
       "      <td>Tempo Integral</td>\n",
       "      <td>Solutions Engineer</td>\n",
       "      <td>214000</td>\n",
       "      <td>USD</td>\n",
       "      <td>214000</td>\n",
       "      <td>US</td>\n",
       "      <td>Remoto</td>\n",
       "      <td>US</td>\n",
       "      <td>Média</td>\n",
       "    </tr>\n",
       "    <tr>\n",
       "      <th>1</th>\n",
       "      <td>2025.0</td>\n",
       "      <td>Senior</td>\n",
       "      <td>Tempo Integral</td>\n",
       "      <td>Solutions Engineer</td>\n",
       "      <td>136000</td>\n",
       "      <td>USD</td>\n",
       "      <td>136000</td>\n",
       "      <td>US</td>\n",
       "      <td>Remoto</td>\n",
       "      <td>US</td>\n",
       "      <td>Média</td>\n",
       "    </tr>\n",
       "    <tr>\n",
       "      <th>2</th>\n",
       "      <td>2025.0</td>\n",
       "      <td>Pleno</td>\n",
       "      <td>Tempo Integral</td>\n",
       "      <td>Data Engineer</td>\n",
       "      <td>158800</td>\n",
       "      <td>USD</td>\n",
       "      <td>158800</td>\n",
       "      <td>AU</td>\n",
       "      <td>Presencial</td>\n",
       "      <td>AU</td>\n",
       "      <td>Média</td>\n",
       "    </tr>\n",
       "    <tr>\n",
       "      <th>3</th>\n",
       "      <td>2025.0</td>\n",
       "      <td>Pleno</td>\n",
       "      <td>Tempo Integral</td>\n",
       "      <td>Data Engineer</td>\n",
       "      <td>139200</td>\n",
       "      <td>USD</td>\n",
       "      <td>139200</td>\n",
       "      <td>AU</td>\n",
       "      <td>Presencial</td>\n",
       "      <td>AU</td>\n",
       "      <td>Média</td>\n",
       "    </tr>\n",
       "    <tr>\n",
       "      <th>4</th>\n",
       "      <td>2025.0</td>\n",
       "      <td>Junior</td>\n",
       "      <td>Tempo Integral</td>\n",
       "      <td>Data Engineer</td>\n",
       "      <td>90000</td>\n",
       "      <td>USD</td>\n",
       "      <td>90000</td>\n",
       "      <td>US</td>\n",
       "      <td>Presencial</td>\n",
       "      <td>US</td>\n",
       "      <td>Média</td>\n",
       "    </tr>\n",
       "  </tbody>\n",
       "</table>\n",
       "</div>"
      ],
      "text/plain": [
       "      ano senioridade        contrato               cargo  salario moeda  \\\n",
       "0  2025.0      Senior  Tempo Integral  Solutions Engineer   214000   USD   \n",
       "1  2025.0      Senior  Tempo Integral  Solutions Engineer   136000   USD   \n",
       "2  2025.0       Pleno  Tempo Integral       Data Engineer   158800   USD   \n",
       "3  2025.0       Pleno  Tempo Integral       Data Engineer   139200   USD   \n",
       "4  2025.0      Junior  Tempo Integral       Data Engineer    90000   USD   \n",
       "\n",
       "      usd residencia      remoto empresa tamanho_empresa  \n",
       "0  214000         US      Remoto      US           Média  \n",
       "1  136000         US      Remoto      US           Média  \n",
       "2  158800         AU  Presencial      AU           Média  \n",
       "3  139200         AU  Presencial      AU           Média  \n",
       "4   90000         US  Presencial      US           Média  "
      ]
     },
     "execution_count": 62,
     "metadata": {},
     "output_type": "execute_result"
    }
   ],
   "source": [
    "df.head()"
   ]
  },
  {
   "cell_type": "markdown",
   "metadata": {
    "id": "ukMwXsKYpcRf"
   },
   "source": [
    "# Código para retornar a soma dos nulos em cada campo."
   ]
  },
  {
   "cell_type": "code",
   "execution_count": 63,
   "metadata": {
    "colab": {
     "base_uri": "https://localhost:8080/",
     "height": 429
    },
    "executionInfo": {
     "elapsed": 107,
     "status": "ok",
     "timestamp": 1754952059304,
     "user": {
      "displayName": "Gabriel Prange",
      "userId": "11983387267216982138"
     },
     "user_tz": 180
    },
    "id": "P0dkWZHLnsTK",
    "outputId": "6f96a374-282e-4344-d5a6-532a82547f76"
   },
   "outputs": [
    {
     "data": {
      "text/plain": [
       "ano                10\n",
       "senioridade         0\n",
       "contrato            0\n",
       "cargo               0\n",
       "salario             0\n",
       "moeda               0\n",
       "usd                 0\n",
       "residencia          0\n",
       "remoto              0\n",
       "empresa             0\n",
       "tamanho_empresa     0\n",
       "dtype: int64"
      ]
     },
     "execution_count": 63,
     "metadata": {},
     "output_type": "execute_result"
    }
   ],
   "source": [
    "df.isnull().sum()"
   ]
  },
  {
   "cell_type": "code",
   "execution_count": 64,
   "metadata": {
    "colab": {
     "base_uri": "https://localhost:8080/"
    },
    "executionInfo": {
     "elapsed": 16,
     "status": "ok",
     "timestamp": 1754952059331,
     "user": {
      "displayName": "Gabriel Prange",
      "userId": "11983387267216982138"
     },
     "user_tz": 180
    },
    "id": "OdkJvTKCpOui",
    "outputId": "3947e104-7622-40e2-8fca-4948349ade12"
   },
   "outputs": [
    {
     "data": {
      "text/plain": [
       "array([2025.,   nan, 2024., 2022., 2023., 2020., 2021.])"
      ]
     },
     "execution_count": 64,
     "metadata": {},
     "output_type": "execute_result"
    }
   ],
   "source": [
    "#mostra valores unicos da coluna no formato lista\n",
    "df['ano'].unique()"
   ]
  },
  {
   "cell_type": "markdown",
   "metadata": {
    "id": "G1nW2sGCp-rP"
   },
   "source": [
    "#retornando linhas com nulo em qualquer coluna \"eixo\""
   ]
  },
  {
   "cell_type": "code",
   "execution_count": 65,
   "metadata": {
    "colab": {
     "base_uri": "https://localhost:8080/",
     "height": 363
    },
    "executionInfo": {
     "elapsed": 156,
     "status": "ok",
     "timestamp": 1754952059488,
     "user": {
      "displayName": "Gabriel Prange",
      "userId": "11983387267216982138"
     },
     "user_tz": 180
    },
    "id": "mosr45YHpo-F",
    "outputId": "e89be18d-19dc-4cd7-8b63-56657ebbcd6d"
   },
   "outputs": [
    {
     "data": {
      "text/html": [
       "<div>\n",
       "<style scoped>\n",
       "    .dataframe tbody tr th:only-of-type {\n",
       "        vertical-align: middle;\n",
       "    }\n",
       "\n",
       "    .dataframe tbody tr th {\n",
       "        vertical-align: top;\n",
       "    }\n",
       "\n",
       "    .dataframe thead th {\n",
       "        text-align: right;\n",
       "    }\n",
       "</style>\n",
       "<table border=\"1\" class=\"dataframe\">\n",
       "  <thead>\n",
       "    <tr style=\"text-align: right;\">\n",
       "      <th></th>\n",
       "      <th>ano</th>\n",
       "      <th>senioridade</th>\n",
       "      <th>contrato</th>\n",
       "      <th>cargo</th>\n",
       "      <th>salario</th>\n",
       "      <th>moeda</th>\n",
       "      <th>usd</th>\n",
       "      <th>residencia</th>\n",
       "      <th>remoto</th>\n",
       "      <th>empresa</th>\n",
       "      <th>tamanho_empresa</th>\n",
       "    </tr>\n",
       "  </thead>\n",
       "  <tbody>\n",
       "    <tr>\n",
       "      <th>5588</th>\n",
       "      <td>NaN</td>\n",
       "      <td>Senior</td>\n",
       "      <td>Tempo Integral</td>\n",
       "      <td>Product Manager</td>\n",
       "      <td>184500</td>\n",
       "      <td>USD</td>\n",
       "      <td>184500</td>\n",
       "      <td>US</td>\n",
       "      <td>Presencial</td>\n",
       "      <td>US</td>\n",
       "      <td>Média</td>\n",
       "    </tr>\n",
       "    <tr>\n",
       "      <th>59692</th>\n",
       "      <td>NaN</td>\n",
       "      <td>Pleno</td>\n",
       "      <td>Tempo Integral</td>\n",
       "      <td>Engineer</td>\n",
       "      <td>110000</td>\n",
       "      <td>USD</td>\n",
       "      <td>110000</td>\n",
       "      <td>DE</td>\n",
       "      <td>Presencial</td>\n",
       "      <td>DE</td>\n",
       "      <td>Média</td>\n",
       "    </tr>\n",
       "    <tr>\n",
       "      <th>59710</th>\n",
       "      <td>NaN</td>\n",
       "      <td>Junior</td>\n",
       "      <td>Tempo Integral</td>\n",
       "      <td>Data Scientist</td>\n",
       "      <td>208800</td>\n",
       "      <td>USD</td>\n",
       "      <td>208800</td>\n",
       "      <td>US</td>\n",
       "      <td>Presencial</td>\n",
       "      <td>US</td>\n",
       "      <td>Média</td>\n",
       "    </tr>\n",
       "    <tr>\n",
       "      <th>59759</th>\n",
       "      <td>NaN</td>\n",
       "      <td>Senior</td>\n",
       "      <td>Tempo Integral</td>\n",
       "      <td>Software Engineer</td>\n",
       "      <td>135000</td>\n",
       "      <td>USD</td>\n",
       "      <td>135000</td>\n",
       "      <td>US</td>\n",
       "      <td>Presencial</td>\n",
       "      <td>US</td>\n",
       "      <td>Média</td>\n",
       "    </tr>\n",
       "    <tr>\n",
       "      <th>59789</th>\n",
       "      <td>NaN</td>\n",
       "      <td>Senior</td>\n",
       "      <td>Tempo Integral</td>\n",
       "      <td>Engineer</td>\n",
       "      <td>112000</td>\n",
       "      <td>USD</td>\n",
       "      <td>112000</td>\n",
       "      <td>US</td>\n",
       "      <td>Presencial</td>\n",
       "      <td>US</td>\n",
       "      <td>Média</td>\n",
       "    </tr>\n",
       "    <tr>\n",
       "      <th>131000</th>\n",
       "      <td>NaN</td>\n",
       "      <td>Senior</td>\n",
       "      <td>Tempo Integral</td>\n",
       "      <td>Machine Learning Engineer</td>\n",
       "      <td>163800</td>\n",
       "      <td>USD</td>\n",
       "      <td>163800</td>\n",
       "      <td>US</td>\n",
       "      <td>Presencial</td>\n",
       "      <td>US</td>\n",
       "      <td>Média</td>\n",
       "    </tr>\n",
       "    <tr>\n",
       "      <th>131006</th>\n",
       "      <td>NaN</td>\n",
       "      <td>Senior</td>\n",
       "      <td>Tempo Integral</td>\n",
       "      <td>Data Analytics Manager</td>\n",
       "      <td>204500</td>\n",
       "      <td>USD</td>\n",
       "      <td>204500</td>\n",
       "      <td>US</td>\n",
       "      <td>Presencial</td>\n",
       "      <td>US</td>\n",
       "      <td>Média</td>\n",
       "    </tr>\n",
       "    <tr>\n",
       "      <th>133054</th>\n",
       "      <td>NaN</td>\n",
       "      <td>Junior</td>\n",
       "      <td>Tempo Integral</td>\n",
       "      <td>Data Scientist</td>\n",
       "      <td>40000</td>\n",
       "      <td>USD</td>\n",
       "      <td>40000</td>\n",
       "      <td>JP</td>\n",
       "      <td>Remoto</td>\n",
       "      <td>MY</td>\n",
       "      <td>Grande</td>\n",
       "    </tr>\n",
       "    <tr>\n",
       "      <th>133281</th>\n",
       "      <td>NaN</td>\n",
       "      <td>Pleno</td>\n",
       "      <td>Tempo Integral</td>\n",
       "      <td>Machine Learning Engineer</td>\n",
       "      <td>180000</td>\n",
       "      <td>PLN</td>\n",
       "      <td>46597</td>\n",
       "      <td>PL</td>\n",
       "      <td>Remoto</td>\n",
       "      <td>PL</td>\n",
       "      <td>Grande</td>\n",
       "    </tr>\n",
       "    <tr>\n",
       "      <th>133317</th>\n",
       "      <td>NaN</td>\n",
       "      <td>Pleno</td>\n",
       "      <td>Tempo Integral</td>\n",
       "      <td>Data Scientist</td>\n",
       "      <td>130000</td>\n",
       "      <td>USD</td>\n",
       "      <td>130000</td>\n",
       "      <td>US</td>\n",
       "      <td>Híbrido</td>\n",
       "      <td>US</td>\n",
       "      <td>Grande</td>\n",
       "    </tr>\n",
       "  </tbody>\n",
       "</table>\n",
       "</div>"
      ],
      "text/plain": [
       "        ano senioridade        contrato                      cargo  salario  \\\n",
       "5588    NaN      Senior  Tempo Integral            Product Manager   184500   \n",
       "59692   NaN       Pleno  Tempo Integral                   Engineer   110000   \n",
       "59710   NaN      Junior  Tempo Integral             Data Scientist   208800   \n",
       "59759   NaN      Senior  Tempo Integral          Software Engineer   135000   \n",
       "59789   NaN      Senior  Tempo Integral                   Engineer   112000   \n",
       "131000  NaN      Senior  Tempo Integral  Machine Learning Engineer   163800   \n",
       "131006  NaN      Senior  Tempo Integral     Data Analytics Manager   204500   \n",
       "133054  NaN      Junior  Tempo Integral             Data Scientist    40000   \n",
       "133281  NaN       Pleno  Tempo Integral  Machine Learning Engineer   180000   \n",
       "133317  NaN       Pleno  Tempo Integral             Data Scientist   130000   \n",
       "\n",
       "       moeda     usd residencia      remoto empresa tamanho_empresa  \n",
       "5588     USD  184500         US  Presencial      US           Média  \n",
       "59692    USD  110000         DE  Presencial      DE           Média  \n",
       "59710    USD  208800         US  Presencial      US           Média  \n",
       "59759    USD  135000         US  Presencial      US           Média  \n",
       "59789    USD  112000         US  Presencial      US           Média  \n",
       "131000   USD  163800         US  Presencial      US           Média  \n",
       "131006   USD  204500         US  Presencial      US           Média  \n",
       "133054   USD   40000         JP      Remoto      MY          Grande  \n",
       "133281   PLN   46597         PL      Remoto      PL          Grande  \n",
       "133317   USD  130000         US     Híbrido      US          Grande  "
      ]
     },
     "execution_count": 65,
     "metadata": {},
     "output_type": "execute_result"
    }
   ],
   "source": [
    "df[df.isnull().any(axis=1)]"
   ]
  },
  {
   "cell_type": "markdown",
   "metadata": {
    "id": "-TnRlaXSsHiF"
   },
   "source": [
    "# Exemplo de como preencher dados NaN (not a number)"
   ]
  },
  {
   "cell_type": "code",
   "execution_count": 66,
   "metadata": {
    "colab": {
     "base_uri": "https://localhost:8080/",
     "height": 206
    },
    "executionInfo": {
     "elapsed": 99,
     "status": "ok",
     "timestamp": 1754952059585,
     "user": {
      "displayName": "Gabriel Prange",
      "userId": "11983387267216982138"
     },
     "user_tz": 180
    },
    "id": "fHLgsLrLqxVH",
    "outputId": "23c0af3e-2f3c-483c-d230-eff98e402de0"
   },
   "outputs": [
    {
     "data": {
      "text/html": [
       "<div>\n",
       "<style scoped>\n",
       "    .dataframe tbody tr th:only-of-type {\n",
       "        vertical-align: middle;\n",
       "    }\n",
       "\n",
       "    .dataframe tbody tr th {\n",
       "        vertical-align: top;\n",
       "    }\n",
       "\n",
       "    .dataframe thead th {\n",
       "        text-align: right;\n",
       "    }\n",
       "</style>\n",
       "<table border=\"1\" class=\"dataframe\">\n",
       "  <thead>\n",
       "    <tr style=\"text-align: right;\">\n",
       "      <th></th>\n",
       "      <th>nome</th>\n",
       "      <th>salario</th>\n",
       "      <th>salario_medio</th>\n",
       "      <th>salario_mediana</th>\n",
       "    </tr>\n",
       "  </thead>\n",
       "  <tbody>\n",
       "    <tr>\n",
       "      <th>0</th>\n",
       "      <td>Ana</td>\n",
       "      <td>4000.0</td>\n",
       "      <td>4000.00</td>\n",
       "      <td>4000.0</td>\n",
       "    </tr>\n",
       "    <tr>\n",
       "      <th>1</th>\n",
       "      <td>Bruna</td>\n",
       "      <td>NaN</td>\n",
       "      <td>36333.33</td>\n",
       "      <td>5000.0</td>\n",
       "    </tr>\n",
       "    <tr>\n",
       "      <th>2</th>\n",
       "      <td>Carlos</td>\n",
       "      <td>5000.0</td>\n",
       "      <td>5000.00</td>\n",
       "      <td>5000.0</td>\n",
       "    </tr>\n",
       "    <tr>\n",
       "      <th>3</th>\n",
       "      <td>Daniele</td>\n",
       "      <td>NaN</td>\n",
       "      <td>36333.33</td>\n",
       "      <td>5000.0</td>\n",
       "    </tr>\n",
       "    <tr>\n",
       "      <th>4</th>\n",
       "      <td>Val</td>\n",
       "      <td>100000.0</td>\n",
       "      <td>100000.00</td>\n",
       "      <td>100000.0</td>\n",
       "    </tr>\n",
       "  </tbody>\n",
       "</table>\n",
       "</div>"
      ],
      "text/plain": [
       "      nome   salario  salario_medio  salario_mediana\n",
       "0      Ana    4000.0        4000.00           4000.0\n",
       "1    Bruna       NaN       36333.33           5000.0\n",
       "2   Carlos    5000.0        5000.00           5000.0\n",
       "3  Daniele       NaN       36333.33           5000.0\n",
       "4      Val  100000.0      100000.00         100000.0"
      ]
     },
     "execution_count": 66,
     "metadata": {},
     "output_type": "execute_result"
    }
   ],
   "source": [
    "import numpy as np\n",
    "\n",
    "df_salarios = pd.DataFrame({\n",
    "    'nome': ['Ana', 'Bruna', 'Carlos','Daniele','Val'],\n",
    "    'salario': [ 4000, np.nan, 5000, np.nan, 100000]\n",
    "})\n",
    "\n",
    "#calcula a media salarial e substitui os nulos pela média e arredonda os valores\n",
    "df_salarios['salario_medio'] = df_salarios['salario'].fillna(df_salarios['salario'].mean().round(2))\n",
    "\n",
    "df_salarios['salario_mediana'] = df_salarios['salario'].fillna(df_salarios['salario'].median())\n",
    "\n",
    "df_salarios"
   ]
  },
  {
   "cell_type": "code",
   "execution_count": 67,
   "metadata": {
    "colab": {
     "base_uri": "https://localhost:8080/",
     "height": 206
    },
    "executionInfo": {
     "elapsed": 15,
     "status": "ok",
     "timestamp": 1754952059586,
     "user": {
      "displayName": "Gabriel Prange",
      "userId": "11983387267216982138"
     },
     "user_tz": 180
    },
    "id": "Tn_V0qOxrnez",
    "outputId": "95b1837b-d03c-48f9-dc4b-6a03fb845e34"
   },
   "outputs": [
    {
     "data": {
      "text/html": [
       "<div>\n",
       "<style scoped>\n",
       "    .dataframe tbody tr th:only-of-type {\n",
       "        vertical-align: middle;\n",
       "    }\n",
       "\n",
       "    .dataframe tbody tr th {\n",
       "        vertical-align: top;\n",
       "    }\n",
       "\n",
       "    .dataframe thead th {\n",
       "        text-align: right;\n",
       "    }\n",
       "</style>\n",
       "<table border=\"1\" class=\"dataframe\">\n",
       "  <thead>\n",
       "    <tr style=\"text-align: right;\">\n",
       "      <th></th>\n",
       "      <th>Dia</th>\n",
       "      <th>Temperatura</th>\n",
       "      <th>preenchido_ffill</th>\n",
       "      <th>preenchido_bfill</th>\n",
       "    </tr>\n",
       "  </thead>\n",
       "  <tbody>\n",
       "    <tr>\n",
       "      <th>0</th>\n",
       "      <td>Segunda</td>\n",
       "      <td>30.0</td>\n",
       "      <td>30.0</td>\n",
       "      <td>30.0</td>\n",
       "    </tr>\n",
       "    <tr>\n",
       "      <th>1</th>\n",
       "      <td>Terça</td>\n",
       "      <td>NaN</td>\n",
       "      <td>30.0</td>\n",
       "      <td>28.0</td>\n",
       "    </tr>\n",
       "    <tr>\n",
       "      <th>2</th>\n",
       "      <td>Quarta</td>\n",
       "      <td>28.0</td>\n",
       "      <td>28.0</td>\n",
       "      <td>28.0</td>\n",
       "    </tr>\n",
       "    <tr>\n",
       "      <th>3</th>\n",
       "      <td>Quinta</td>\n",
       "      <td>NaN</td>\n",
       "      <td>28.0</td>\n",
       "      <td>27.0</td>\n",
       "    </tr>\n",
       "    <tr>\n",
       "      <th>4</th>\n",
       "      <td>Sexta</td>\n",
       "      <td>27.0</td>\n",
       "      <td>27.0</td>\n",
       "      <td>27.0</td>\n",
       "    </tr>\n",
       "  </tbody>\n",
       "</table>\n",
       "</div>"
      ],
      "text/plain": [
       "       Dia  Temperatura  preenchido_ffill  preenchido_bfill\n",
       "0  Segunda         30.0              30.0              30.0\n",
       "1    Terça          NaN              30.0              28.0\n",
       "2   Quarta         28.0              28.0              28.0\n",
       "3   Quinta          NaN              28.0              27.0\n",
       "4    Sexta         27.0              27.0              27.0"
      ]
     },
     "execution_count": 67,
     "metadata": {},
     "output_type": "execute_result"
    }
   ],
   "source": [
    "df_temperaturas = pd.DataFrame({\n",
    "    \"Dia\": [\"Segunda\",\"Terça\",\"Quarta\",\"Quinta\",\"Sexta\"],\n",
    "    \"Temperatura\": [30, np.nan, 28, np.nan, 27]\n",
    "})\n",
    "'''método ffill()  forward fill preenche com o proximo valor\n",
    " e o método bfill() back fill preenche com o valor anterior.\n",
    "'''\n",
    "\n",
    "df_temperaturas[\"preenchido_ffill\"] = df_temperaturas[\"Temperatura\"].ffill()\n",
    "df_temperaturas[\"preenchido_bfill\"] = df_temperaturas[\"Temperatura\"].bfill()\n",
    "df_temperaturas"
   ]
  },
  {
   "cell_type": "code",
   "execution_count": 68,
   "metadata": {
    "colab": {
     "base_uri": "https://localhost:8080/",
     "height": 206
    },
    "executionInfo": {
     "elapsed": 45,
     "status": "ok",
     "timestamp": 1754952059619,
     "user": {
      "displayName": "Gabriel Prange",
      "userId": "11983387267216982138"
     },
     "user_tz": 180
    },
    "id": "YoDNZ2oy0yIZ",
    "outputId": "c73a8c5a-c16a-417b-9022-fc6fce264b11"
   },
   "outputs": [
    {
     "data": {
      "text/html": [
       "<div>\n",
       "<style scoped>\n",
       "    .dataframe tbody tr th:only-of-type {\n",
       "        vertical-align: middle;\n",
       "    }\n",
       "\n",
       "    .dataframe tbody tr th {\n",
       "        vertical-align: top;\n",
       "    }\n",
       "\n",
       "    .dataframe thead th {\n",
       "        text-align: right;\n",
       "    }\n",
       "</style>\n",
       "<table border=\"1\" class=\"dataframe\">\n",
       "  <thead>\n",
       "    <tr style=\"text-align: right;\">\n",
       "      <th></th>\n",
       "      <th>nome</th>\n",
       "      <th>cidades</th>\n",
       "      <th>cidade_preenchida</th>\n",
       "    </tr>\n",
       "  </thead>\n",
       "  <tbody>\n",
       "    <tr>\n",
       "      <th>0</th>\n",
       "      <td>Ana</td>\n",
       "      <td>São Paulo</td>\n",
       "      <td>São Paulo</td>\n",
       "    </tr>\n",
       "    <tr>\n",
       "      <th>1</th>\n",
       "      <td>Bruna</td>\n",
       "      <td>NaN</td>\n",
       "      <td>Não informado</td>\n",
       "    </tr>\n",
       "    <tr>\n",
       "      <th>2</th>\n",
       "      <td>Carlos</td>\n",
       "      <td>Curitiba</td>\n",
       "      <td>Curitiba</td>\n",
       "    </tr>\n",
       "    <tr>\n",
       "      <th>3</th>\n",
       "      <td>Daniele</td>\n",
       "      <td>NaN</td>\n",
       "      <td>Não informado</td>\n",
       "    </tr>\n",
       "    <tr>\n",
       "      <th>4</th>\n",
       "      <td>Val</td>\n",
       "      <td>Belém</td>\n",
       "      <td>Belém</td>\n",
       "    </tr>\n",
       "  </tbody>\n",
       "</table>\n",
       "</div>"
      ],
      "text/plain": [
       "      nome    cidades cidade_preenchida\n",
       "0      Ana  São Paulo         São Paulo\n",
       "1    Bruna        NaN     Não informado\n",
       "2   Carlos   Curitiba          Curitiba\n",
       "3  Daniele        NaN     Não informado\n",
       "4      Val      Belém             Belém"
      ]
     },
     "metadata": {},
     "output_type": "display_data"
    }
   ],
   "source": [
    "df_cidades = pd.DataFrame({\n",
    "    'nome': ['Ana', 'Bruna', 'Carlos','Daniele','Val'],\n",
    "    'cidades': [ \"São Paulo\", np.nan, \"Curitiba\", np.nan, \"Belém\"]\n",
    "})\n",
    "\n",
    "df_cidades[\"cidade_preenchida\"] = df_cidades[\"cidades\"].fillna(\"Não informado\")\n",
    "display(df_cidades)"
   ]
  },
  {
   "cell_type": "markdown",
   "metadata": {
    "id": "QsVtUMTu3SLf"
   },
   "source": [
    "#método .dropna() remove todas as linhas com NaN"
   ]
  },
  {
   "cell_type": "code",
   "execution_count": 69,
   "metadata": {
    "colab": {
     "base_uri": "https://localhost:8080/",
     "height": 429
    },
    "executionInfo": {
     "elapsed": 213,
     "status": "ok",
     "timestamp": 1754952059834,
     "user": {
      "displayName": "Gabriel Prange",
      "userId": "11983387267216982138"
     },
     "user_tz": 180
    },
    "id": "28KnkeW_3CnA",
    "outputId": "b03f8081-6aaa-4312-a890-e911e8063122"
   },
   "outputs": [
    {
     "data": {
      "text/plain": [
       "ano                0\n",
       "senioridade        0\n",
       "contrato           0\n",
       "cargo              0\n",
       "salario            0\n",
       "moeda              0\n",
       "usd                0\n",
       "residencia         0\n",
       "remoto             0\n",
       "empresa            0\n",
       "tamanho_empresa    0\n",
       "dtype: int64"
      ]
     },
     "execution_count": 69,
     "metadata": {},
     "output_type": "execute_result"
    }
   ],
   "source": [
    "df_limpo = df.dropna()\n",
    "df_limpo.isnull().sum()"
   ]
  },
  {
   "cell_type": "markdown",
   "metadata": {
    "id": "ZKW1OCwT4TT4"
   },
   "source": [
    "# troca de tipo de variavel, na coluna ano, de float64 para int64\n"
   ]
  },
  {
   "cell_type": "code",
   "execution_count": 70,
   "metadata": {
    "colab": {
     "base_uri": "https://localhost:8080/"
    },
    "executionInfo": {
     "elapsed": 121,
     "status": "ok",
     "timestamp": 1754952059970,
     "user": {
      "displayName": "Gabriel Prange",
      "userId": "11983387267216982138"
     },
     "user_tz": 180
    },
    "id": "lD0DoFhb3lsP",
    "outputId": "b8bddced-d854-49dd-a5b6-2ed1ca80a476"
   },
   "outputs": [
    {
     "name": "stdout",
     "output_type": "stream",
     "text": [
      "<class 'pandas.core.frame.DataFrame'>\n",
      "Index: 133339 entries, 0 to 133348\n",
      "Data columns (total 11 columns):\n",
      " #   Column           Non-Null Count   Dtype  \n",
      "---  ------           --------------   -----  \n",
      " 0   ano              133339 non-null  float64\n",
      " 1   senioridade      133339 non-null  object \n",
      " 2   contrato         133339 non-null  object \n",
      " 3   cargo            133339 non-null  object \n",
      " 4   salario          133339 non-null  int64  \n",
      " 5   moeda            133339 non-null  object \n",
      " 6   usd              133339 non-null  int64  \n",
      " 7   residencia       133339 non-null  object \n",
      " 8   remoto           133339 non-null  object \n",
      " 9   empresa          133339 non-null  object \n",
      " 10  tamanho_empresa  133339 non-null  object \n",
      "dtypes: float64(1), int64(2), object(8)\n",
      "memory usage: 12.2+ MB\n"
     ]
    }
   ],
   "source": [
    "df_limpo.info()"
   ]
  },
  {
   "cell_type": "code",
   "execution_count": 71,
   "metadata": {
    "executionInfo": {
     "elapsed": 85,
     "status": "ok",
     "timestamp": 1754952060076,
     "user": {
      "displayName": "Gabriel Prange",
      "userId": "11983387267216982138"
     },
     "user_tz": 180
    },
    "id": "byi8hiBT37uE"
   },
   "outputs": [],
   "source": [
    "df_limpo = df_limpo.assign(ano = df_limpo['ano'].astype('int64'))"
   ]
  },
  {
   "cell_type": "code",
   "execution_count": 72,
   "metadata": {
    "colab": {
     "base_uri": "https://localhost:8080/"
    },
    "executionInfo": {
     "elapsed": 106,
     "status": "ok",
     "timestamp": 1754952060179,
     "user": {
      "displayName": "Gabriel Prange",
      "userId": "11983387267216982138"
     },
     "user_tz": 180
    },
    "id": "ebBgAgKB4QWN",
    "outputId": "dc0ad170-bc64-4845-a280-2958df44f6f6"
   },
   "outputs": [
    {
     "name": "stdout",
     "output_type": "stream",
     "text": [
      "<class 'pandas.core.frame.DataFrame'>\n",
      "Index: 133339 entries, 0 to 133348\n",
      "Data columns (total 11 columns):\n",
      " #   Column           Non-Null Count   Dtype \n",
      "---  ------           --------------   ----- \n",
      " 0   ano              133339 non-null  int64 \n",
      " 1   senioridade      133339 non-null  object\n",
      " 2   contrato         133339 non-null  object\n",
      " 3   cargo            133339 non-null  object\n",
      " 4   salario          133339 non-null  int64 \n",
      " 5   moeda            133339 non-null  object\n",
      " 6   usd              133339 non-null  int64 \n",
      " 7   residencia       133339 non-null  object\n",
      " 8   remoto           133339 non-null  object\n",
      " 9   empresa          133339 non-null  object\n",
      " 10  tamanho_empresa  133339 non-null  object\n",
      "dtypes: int64(3), object(8)\n",
      "memory usage: 12.2+ MB\n"
     ]
    }
   ],
   "source": [
    "df_limpo.info()"
   ]
  },
  {
   "cell_type": "markdown",
   "metadata": {
    "id": "kr1T6G4pgEcd"
   },
   "source": [
    "#Aula 3 - Visualização de dados\n"
   ]
  },
  {
   "cell_type": "code",
   "execution_count": 73,
   "metadata": {
    "colab": {
     "base_uri": "https://localhost:8080/",
     "height": 206
    },
    "executionInfo": {
     "elapsed": 54,
     "status": "ok",
     "timestamp": 1754952060234,
     "user": {
      "displayName": "Gabriel Prange",
      "userId": "11983387267216982138"
     },
     "user_tz": 180
    },
    "id": "fWJnlspGgImD",
    "outputId": "c5f7e22b-ec0c-4237-9d92-54b046d06dee"
   },
   "outputs": [
    {
     "data": {
      "text/html": [
       "<div>\n",
       "<style scoped>\n",
       "    .dataframe tbody tr th:only-of-type {\n",
       "        vertical-align: middle;\n",
       "    }\n",
       "\n",
       "    .dataframe tbody tr th {\n",
       "        vertical-align: top;\n",
       "    }\n",
       "\n",
       "    .dataframe thead th {\n",
       "        text-align: right;\n",
       "    }\n",
       "</style>\n",
       "<table border=\"1\" class=\"dataframe\">\n",
       "  <thead>\n",
       "    <tr style=\"text-align: right;\">\n",
       "      <th></th>\n",
       "      <th>ano</th>\n",
       "      <th>senioridade</th>\n",
       "      <th>contrato</th>\n",
       "      <th>cargo</th>\n",
       "      <th>salario</th>\n",
       "      <th>moeda</th>\n",
       "      <th>usd</th>\n",
       "      <th>residencia</th>\n",
       "      <th>remoto</th>\n",
       "      <th>empresa</th>\n",
       "      <th>tamanho_empresa</th>\n",
       "    </tr>\n",
       "  </thead>\n",
       "  <tbody>\n",
       "    <tr>\n",
       "      <th>0</th>\n",
       "      <td>2025</td>\n",
       "      <td>Senior</td>\n",
       "      <td>Tempo Integral</td>\n",
       "      <td>Solutions Engineer</td>\n",
       "      <td>214000</td>\n",
       "      <td>USD</td>\n",
       "      <td>214000</td>\n",
       "      <td>US</td>\n",
       "      <td>Remoto</td>\n",
       "      <td>US</td>\n",
       "      <td>Média</td>\n",
       "    </tr>\n",
       "    <tr>\n",
       "      <th>1</th>\n",
       "      <td>2025</td>\n",
       "      <td>Senior</td>\n",
       "      <td>Tempo Integral</td>\n",
       "      <td>Solutions Engineer</td>\n",
       "      <td>136000</td>\n",
       "      <td>USD</td>\n",
       "      <td>136000</td>\n",
       "      <td>US</td>\n",
       "      <td>Remoto</td>\n",
       "      <td>US</td>\n",
       "      <td>Média</td>\n",
       "    </tr>\n",
       "    <tr>\n",
       "      <th>2</th>\n",
       "      <td>2025</td>\n",
       "      <td>Pleno</td>\n",
       "      <td>Tempo Integral</td>\n",
       "      <td>Data Engineer</td>\n",
       "      <td>158800</td>\n",
       "      <td>USD</td>\n",
       "      <td>158800</td>\n",
       "      <td>AU</td>\n",
       "      <td>Presencial</td>\n",
       "      <td>AU</td>\n",
       "      <td>Média</td>\n",
       "    </tr>\n",
       "    <tr>\n",
       "      <th>3</th>\n",
       "      <td>2025</td>\n",
       "      <td>Pleno</td>\n",
       "      <td>Tempo Integral</td>\n",
       "      <td>Data Engineer</td>\n",
       "      <td>139200</td>\n",
       "      <td>USD</td>\n",
       "      <td>139200</td>\n",
       "      <td>AU</td>\n",
       "      <td>Presencial</td>\n",
       "      <td>AU</td>\n",
       "      <td>Média</td>\n",
       "    </tr>\n",
       "    <tr>\n",
       "      <th>4</th>\n",
       "      <td>2025</td>\n",
       "      <td>Junior</td>\n",
       "      <td>Tempo Integral</td>\n",
       "      <td>Data Engineer</td>\n",
       "      <td>90000</td>\n",
       "      <td>USD</td>\n",
       "      <td>90000</td>\n",
       "      <td>US</td>\n",
       "      <td>Presencial</td>\n",
       "      <td>US</td>\n",
       "      <td>Média</td>\n",
       "    </tr>\n",
       "  </tbody>\n",
       "</table>\n",
       "</div>"
      ],
      "text/plain": [
       "    ano senioridade        contrato               cargo  salario moeda  \\\n",
       "0  2025      Senior  Tempo Integral  Solutions Engineer   214000   USD   \n",
       "1  2025      Senior  Tempo Integral  Solutions Engineer   136000   USD   \n",
       "2  2025       Pleno  Tempo Integral       Data Engineer   158800   USD   \n",
       "3  2025       Pleno  Tempo Integral       Data Engineer   139200   USD   \n",
       "4  2025      Junior  Tempo Integral       Data Engineer    90000   USD   \n",
       "\n",
       "      usd residencia      remoto empresa tamanho_empresa  \n",
       "0  214000         US      Remoto      US           Média  \n",
       "1  136000         US      Remoto      US           Média  \n",
       "2  158800         AU  Presencial      AU           Média  \n",
       "3  139200         AU  Presencial      AU           Média  \n",
       "4   90000         US  Presencial      US           Média  "
      ]
     },
     "execution_count": 73,
     "metadata": {},
     "output_type": "execute_result"
    }
   ],
   "source": [
    "df_limpo.head()"
   ]
  },
  {
   "cell_type": "code",
   "execution_count": 75,
   "metadata": {
    "colab": {
     "base_uri": "https://localhost:8080/",
     "height": 543
    },
    "executionInfo": {
     "elapsed": 292,
     "status": "ok",
     "timestamp": 1754952060527,
     "user": {
      "displayName": "Gabriel Prange",
      "userId": "11983387267216982138"
     },
     "user_tz": 180
    },
    "id": "rZtHtwe6ga7h",
    "outputId": "6dc17eac-74fe-4c62-9b22-f284f1086700"
   },
   "outputs": [
    {
     "ename": "ImportError",
     "evalue": "matplotlib is required for plotting when the default backend \"matplotlib\" is selected.",
     "output_type": "error",
     "traceback": [
      "\u001b[31m---------------------------------------------------------------------------\u001b[39m",
      "\u001b[31mImportError\u001b[39m                               Traceback (most recent call last)",
      "\u001b[36mCell\u001b[39m\u001b[36m \u001b[39m\u001b[32mIn[75]\u001b[39m\u001b[32m, line 1\u001b[39m\n\u001b[32m----> \u001b[39m\u001b[32m1\u001b[39m \u001b[43mdf_limpo\u001b[49m\u001b[43m[\u001b[49m\u001b[33;43m'\u001b[39;49m\u001b[33;43msenioridade\u001b[39;49m\u001b[33;43m'\u001b[39;49m\u001b[43m]\u001b[49m\u001b[43m.\u001b[49m\u001b[43mvalue_counts\u001b[49m\u001b[43m(\u001b[49m\u001b[43m)\u001b[49m\u001b[43m.\u001b[49m\u001b[43mplot\u001b[49m\u001b[43m(\u001b[49m\u001b[43mkind\u001b[49m\u001b[43m=\u001b[49m\u001b[33;43m'\u001b[39;49m\u001b[33;43mbar\u001b[39;49m\u001b[33;43m'\u001b[39;49m\u001b[43m,\u001b[49m\u001b[43m \u001b[49m\u001b[43mtitle\u001b[49m\u001b[43m=\u001b[49m\u001b[33;43m'\u001b[39;49m\u001b[33;43mDistribuição de Senioridade\u001b[39;49m\u001b[33;43m'\u001b[39;49m\u001b[43m)\u001b[49m\n",
      "\u001b[36mFile \u001b[39m\u001b[32m~\\AppData\\Local\\Packages\\PythonSoftwareFoundation.Python.3.13_qbz5n2kfra8p0\\LocalCache\\local-packages\\Python313\\site-packages\\pandas\\plotting\\_core.py:947\u001b[39m, in \u001b[36mPlotAccessor.__call__\u001b[39m\u001b[34m(self, *args, **kwargs)\u001b[39m\n\u001b[32m    946\u001b[39m \u001b[38;5;28;01mdef\u001b[39;00m\u001b[38;5;250m \u001b[39m\u001b[34m__call__\u001b[39m(\u001b[38;5;28mself\u001b[39m, *args, **kwargs):\n\u001b[32m--> \u001b[39m\u001b[32m947\u001b[39m     plot_backend = \u001b[43m_get_plot_backend\u001b[49m\u001b[43m(\u001b[49m\u001b[43mkwargs\u001b[49m\u001b[43m.\u001b[49m\u001b[43mpop\u001b[49m\u001b[43m(\u001b[49m\u001b[33;43m\"\u001b[39;49m\u001b[33;43mbackend\u001b[39;49m\u001b[33;43m\"\u001b[39;49m\u001b[43m,\u001b[49m\u001b[43m \u001b[49m\u001b[38;5;28;43;01mNone\u001b[39;49;00m\u001b[43m)\u001b[49m\u001b[43m)\u001b[49m\n\u001b[32m    949\u001b[39m     x, y, kind, kwargs = \u001b[38;5;28mself\u001b[39m._get_call_args(\n\u001b[32m    950\u001b[39m         plot_backend.\u001b[34m__name__\u001b[39m, \u001b[38;5;28mself\u001b[39m._parent, args, kwargs\n\u001b[32m    951\u001b[39m     )\n\u001b[32m    953\u001b[39m     kind = \u001b[38;5;28mself\u001b[39m._kind_aliases.get(kind, kind)\n",
      "\u001b[36mFile \u001b[39m\u001b[32m~\\AppData\\Local\\Packages\\PythonSoftwareFoundation.Python.3.13_qbz5n2kfra8p0\\LocalCache\\local-packages\\Python313\\site-packages\\pandas\\plotting\\_core.py:1944\u001b[39m, in \u001b[36m_get_plot_backend\u001b[39m\u001b[34m(backend)\u001b[39m\n\u001b[32m   1941\u001b[39m \u001b[38;5;28;01mif\u001b[39;00m backend_str \u001b[38;5;129;01min\u001b[39;00m _backends:\n\u001b[32m   1942\u001b[39m     \u001b[38;5;28;01mreturn\u001b[39;00m _backends[backend_str]\n\u001b[32m-> \u001b[39m\u001b[32m1944\u001b[39m module = \u001b[43m_load_backend\u001b[49m\u001b[43m(\u001b[49m\u001b[43mbackend_str\u001b[49m\u001b[43m)\u001b[49m\n\u001b[32m   1945\u001b[39m _backends[backend_str] = module\n\u001b[32m   1946\u001b[39m \u001b[38;5;28;01mreturn\u001b[39;00m module\n",
      "\u001b[36mFile \u001b[39m\u001b[32m~\\AppData\\Local\\Packages\\PythonSoftwareFoundation.Python.3.13_qbz5n2kfra8p0\\LocalCache\\local-packages\\Python313\\site-packages\\pandas\\plotting\\_core.py:1874\u001b[39m, in \u001b[36m_load_backend\u001b[39m\u001b[34m(backend)\u001b[39m\n\u001b[32m   1872\u001b[39m         module = importlib.import_module(\u001b[33m\"\u001b[39m\u001b[33mpandas.plotting._matplotlib\u001b[39m\u001b[33m\"\u001b[39m)\n\u001b[32m   1873\u001b[39m     \u001b[38;5;28;01mexcept\u001b[39;00m \u001b[38;5;167;01mImportError\u001b[39;00m:\n\u001b[32m-> \u001b[39m\u001b[32m1874\u001b[39m         \u001b[38;5;28;01mraise\u001b[39;00m \u001b[38;5;167;01mImportError\u001b[39;00m(\n\u001b[32m   1875\u001b[39m             \u001b[33m\"\u001b[39m\u001b[33mmatplotlib is required for plotting when the \u001b[39m\u001b[33m\"\u001b[39m\n\u001b[32m   1876\u001b[39m             \u001b[33m'\u001b[39m\u001b[33mdefault backend \u001b[39m\u001b[33m\"\u001b[39m\u001b[33mmatplotlib\u001b[39m\u001b[33m\"\u001b[39m\u001b[33m is selected.\u001b[39m\u001b[33m'\u001b[39m\n\u001b[32m   1877\u001b[39m         ) \u001b[38;5;28;01mfrom\u001b[39;00m\u001b[38;5;250m \u001b[39m\u001b[38;5;28;01mNone\u001b[39;00m\n\u001b[32m   1878\u001b[39m     \u001b[38;5;28;01mreturn\u001b[39;00m module\n\u001b[32m   1880\u001b[39m found_backend = \u001b[38;5;28;01mFalse\u001b[39;00m\n",
      "\u001b[31mImportError\u001b[39m: matplotlib is required for plotting when the default backend \"matplotlib\" is selected."
     ]
    }
   ],
   "source": [
    "df_limpo['senioridade'].value_counts().plot(kind='bar', title='Distribuição de Senioridade')"
   ]
  },
  {
   "cell_type": "markdown",
   "metadata": {
    "id": "gsRHj97Bjdb2"
   },
   "source": [
    "#Biblioteca Seaborn: biblioteca de graficos"
   ]
  },
  {
   "cell_type": "code",
   "execution_count": null,
   "metadata": {
    "colab": {
     "base_uri": "https://localhost:8080/",
     "height": 467
    },
    "executionInfo": {
     "elapsed": 1883,
     "status": "ok",
     "timestamp": 1754952062411,
     "user": {
      "displayName": "Gabriel Prange",
      "userId": "11983387267216982138"
     },
     "user_tz": 180
    },
    "id": "6uzPJWejh4En",
    "outputId": "5141ea28-419e-437c-a402-a3c6f748f6ce"
   },
   "outputs": [
    {
     "data": {
      "text/plain": [
       "<Axes: xlabel='senioridade', ylabel='usd'>"
      ]
     },
     "execution_count": 96,
     "metadata": {},
     "output_type": "execute_result"
    },
    {
     "data": {
      "image/png": "[encoded data removed]",
      "text/plain": [
       "<Figure size 640x480 with 1 Axes>"
      ]
     },
     "metadata": {},
     "output_type": "display_data"
    }
   ],
   "source": [
    "import seaborn as sns\n",
    "\n",
    "sns.barplot(data= df_limpo, x='senioridade', y='usd')"
   ]
  },
  {
   "cell_type": "code",
   "execution_count": null,
   "metadata": {
    "colab": {
     "base_uri": "https://localhost:8080/",
     "height": 532
    },
    "executionInfo": {
     "elapsed": 306,
     "status": "ok",
     "timestamp": 1754952062718,
     "user": {
      "displayName": "Gabriel Prange",
      "userId": "11983387267216982138"
     },
     "user_tz": 180
    },
    "id": "oWFKDFyG1qyy",
    "outputId": "3940f332-4ea8-4a06-bd71-1e376c4168ac"
   },
   "outputs": [
    {
     "data": {
      "application/vnd.google.colaboratory.intrinsic+json": {
       "type": "string"
      },
      "text/plain": [
       "'esse grafico abaixo mostra os valores do método describe na coluna ano, salario e usd.\\n então o que parecia igual a um primeiro momento (salario e usd) e q se mostrou diferente no info() com formatação cientifica e decimal,\\nna verdade se explica pela coluna salario ter um valor muito alto e fora da curva, dai o método describe mostra como notação cientifica'"
      ]
     },
     "execution_count": 97,
     "metadata": {},
     "output_type": "execute_result"
    },
    {
     "data": {
      "image/png": "[encoded data removed]",
      "text/plain": [
       "<Figure size 640x480 with 1 Axes>"
      ]
     },
     "metadata": {},
     "output_type": "display_data"
    }
   ],
   "source": [
    "df_limpo.describe().plot(kind='bar', title='Estatisticas descritivas')\n",
    "# df_limpo[['salario', 'usd']].corr()\n",
    "#exibe a correlação entre as duas colunas\n",
    "\n",
    "'''esse grafico abaixo mostra os valores do método describe na coluna ano, salario e usd.\n",
    " então o que parecia igual a um primeiro momento (salario e usd) e q se mostrou diferente no info() com formatação cientifica e decimal,\n",
    "na verdade se explica pela coluna salario ter um valor muito alto e fora da curva, dai o método describe mostra como notação cientifica'''"
   ]
  },
  {
   "cell_type": "code",
   "execution_count": null,
   "metadata": {
    "colab": {
     "base_uri": "https://localhost:8080/",
     "height": 488
    },
    "executionInfo": {
     "elapsed": 1541,
     "status": "ok",
     "timestamp": 1754952064260,
     "user": {
      "displayName": "Gabriel Prange",
      "userId": "11983387267216982138"
     },
     "user_tz": 180
    },
    "id": "lIP7tQaXjcgT",
    "outputId": "c5bdf765-4ce2-4ed7-d2d4-dee2b208a181"
   },
   "outputs": [
    {
     "data": {
      "image/png": "[encoded data removed]",
      "text/plain": [
       "<Figure size 800x500 with 1 Axes>"
      ]
     },
     "metadata": {},
     "output_type": "display_data"
    }
   ],
   "source": [
    "import matplotlib.pyplot as plt\n",
    "\n",
    "plt.figure(figsize=(8,5))\n",
    "sns.barplot(data=df_limpo, x='senioridade', y='usd')\n",
    "plt.title(\"Salário médio por senioridade\")\n",
    "plt.xlabel(\"Senioridade\")\n",
    "plt.ylabel(\"Salário médio em USD\")\n",
    "\n",
    "plt.show()\n",
    "\n",
    "#testar valores médios para coluna de 'usd' e ver se batem com os valores daqui\n",
    "#bateu sim"
   ]
  },
  {
   "cell_type": "code",
   "execution_count": null,
   "metadata": {
    "colab": {
     "base_uri": "https://localhost:8080/",
     "height": 241
    },
    "executionInfo": {
     "elapsed": 3,
     "status": "ok",
     "timestamp": 1754952064264,
     "user": {
      "displayName": "Gabriel Prange",
      "userId": "11983387267216982138"
     },
     "user_tz": 180
    },
    "id": "Hf9sP2bemXW0",
    "outputId": "71f33d9b-c3b1-4af8-b38a-21c89c14107c"
   },
   "outputs": [
    {
     "data": {
      "text/html": [
       "<div>\n",
       "<style scoped>\n",
       "    .dataframe tbody tr th:only-of-type {\n",
       "        vertical-align: middle;\n",
       "    }\n",
       "\n",
       "    .dataframe tbody tr th {\n",
       "        vertical-align: top;\n",
       "    }\n",
       "\n",
       "    .dataframe thead th {\n",
       "        text-align: right;\n",
       "    }\n",
       "</style>\n",
       "<table border=\"1\" class=\"dataframe\">\n",
       "  <thead>\n",
       "    <tr style=\"text-align: right;\">\n",
       "      <th></th>\n",
       "      <th>usd</th>\n",
       "    </tr>\n",
       "    <tr>\n",
       "      <th>senioridade</th>\n",
       "      <th></th>\n",
       "    </tr>\n",
       "  </thead>\n",
       "  <tbody>\n",
       "    <tr>\n",
       "      <th>Executivo</th>\n",
       "      <td>202027.667813</td>\n",
       "    </tr>\n",
       "    <tr>\n",
       "      <th>Senior</th>\n",
       "      <td>172850.838301</td>\n",
       "    </tr>\n",
       "    <tr>\n",
       "      <th>Pleno</th>\n",
       "      <td>143044.845979</td>\n",
       "    </tr>\n",
       "    <tr>\n",
       "      <th>Junior</th>\n",
       "      <td>99034.963267</td>\n",
       "    </tr>\n",
       "  </tbody>\n",
       "</table>\n",
       "</div><br><label><b>dtype:</b> float64</label>"
      ],
      "text/plain": [
       "senioridade\n",
       "Executivo    202027.667813\n",
       "Senior       172850.838301\n",
       "Pleno        143044.845979\n",
       "Junior        99034.963267\n",
       "Name: usd, dtype: float64"
      ]
     },
     "execution_count": 99,
     "metadata": {},
     "output_type": "execute_result"
    }
   ],
   "source": [
    "df_limpo.groupby('senioridade')['usd'].mean().sort_values(ascending=False)\n",
    "#minuto27\n"
   ]
  },
  {
   "cell_type": "code",
   "execution_count": null,
   "metadata": {
    "executionInfo": {
     "elapsed": 1,
     "status": "ok",
     "timestamp": 1754952064266,
     "user": {
      "displayName": "Gabriel Prange",
      "userId": "11983387267216982138"
     },
     "user_tz": 180
    },
    "id": "cPM167owm-Sc"
   },
   "outputs": [],
   "source": [
    "#criando uma variável de ordem\n",
    "ordem = df_limpo.groupby('senioridade')['usd'].mean().sort_values(ascending=True).index"
   ]
  },
  {
   "cell_type": "code",
   "execution_count": null,
   "metadata": {
    "colab": {
     "base_uri": "https://localhost:8080/",
     "height": 488
    },
    "executionInfo": {
     "elapsed": 1476,
     "status": "ok",
     "timestamp": 1754952065744,
     "user": {
      "displayName": "Gabriel Prange",
      "userId": "11983387267216982138"
     },
     "user_tz": 180
    },
    "id": "ha--YprAnQDN",
    "outputId": "b2ad7368-bf70-4e1b-b2a3-8cc7b7051efa"
   },
   "outputs": [
    {
     "data": {
      "image/png": "[encoded data removed]",
      "text/plain": [
       "<Figure size 800x500 with 1 Axes>"
      ]
     },
     "metadata": {},
     "output_type": "display_data"
    }
   ],
   "source": [
    "import matplotlib.pyplot as plt\n",
    "\n",
    "plt.figure(figsize=(8,5))\n",
    "sns.barplot(data=df_limpo, x='senioridade', y='usd', order=ordem)\n",
    "plt.title(\"Salário médio por senioridade\")\n",
    "plt.xlabel(\"Senioridade\")\n",
    "plt.ylabel(\"Salário médio em USD\")\n",
    "\n",
    "plt.show()\n"
   ]
  },
  {
   "cell_type": "code",
   "execution_count": null,
   "metadata": {
    "colab": {
     "base_uri": "https://localhost:8080/",
     "height": 411
    },
    "executionInfo": {
     "elapsed": 1440,
     "status": "ok",
     "timestamp": 1754952067174,
     "user": {
      "displayName": "Gabriel Prange",
      "userId": "11983387267216982138"
     },
     "user_tz": 180
    },
    "id": "pt3kyJmwosM4",
    "outputId": "ef7cb11b-97ff-45d7-9f28-c8ab03728be2"
   },
   "outputs": [
    {
     "data": {
      "image/png": "[encoded data removed]",
      "text/plain": [
       "<Figure size 800x400 with 1 Axes>"
      ]
     },
     "metadata": {},
     "output_type": "display_data"
    }
   ],
   "source": [
    "plt.figure(figsize=(8,4))\n",
    "\n",
    "#kde é a linha\n",
    "sns.histplot(df_limpo['usd'], bins=50, kde=True)\n",
    "plt.title(\"Distribuições dos salários anuais\")\n",
    "plt.xlabel(\"Salário anual em USD\")\n",
    "plt.ylabel(\"Frequencia\")\n",
    "\n",
    "sns.histplot()\n",
    "plt.show()"
   ]
  },
  {
   "cell_type": "code",
   "execution_count": null,
   "metadata": {
    "colab": {
     "base_uri": "https://localhost:8080/",
     "height": 578
    },
    "executionInfo": {
     "elapsed": 526,
     "status": "ok",
     "timestamp": 1754952067701,
     "user": {
      "displayName": "Gabriel Prange",
      "userId": "11983387267216982138"
     },
     "user_tz": 180
    },
    "id": "gSslDdmGsK5x",
    "outputId": "d29840f3-837a-4b94-ba95-2ab96195f30a"
   },
   "outputs": [
    {
     "data": {
      "image/png": "[encoded data removed]",
      "text/plain": [
       "<Figure size 800x500 with 1 Axes>"
      ]
     },
     "metadata": {},
     "output_type": "display_data"
    },
    {
     "data": {
      "application/vnd.google.colaboratory.intrinsic+json": {
       "type": "string"
      },
      "text/plain": [
       "'Mínimo: é o menor valor. [primeira linha]\\n• Primeiro quartil (Q1 ou Percentil 25): 25% dos dados são menores que ou iguais a este valor. [ entre primeira linha e parede azul esquerda]\\n• Segundo quartil (Q2 ou Percentil 50): corresponde ao valor central de um conjunto de valores ordenado, sendo uma medida de tendência central. 50% dos dados são menores que ou iguais a este valor. [valores da coluna em azul]\\n• Terceiro quartil (Q3 ou Percentil 75): 75% dos dados são menores que ou iguais a este valor. [parede direita]\\n• Máximo: é o maior valor. [ultima linha fora da coluna azul]\\n'"
      ]
     },
     "execution_count": 103,
     "metadata": {},
     "output_type": "execute_result"
    }
   ],
   "source": [
    "#boxplot minutagem  42:00\n",
    "plt.figure(figsize=(8,5))\n",
    "sns.boxplot(x=df_limpo['usd'])\n",
    "plt.title(\"Boxplot Salário\")\n",
    "plt.xlabel(\"Salário em USD\")\n",
    "\n",
    "plt.show()\n",
    "\n",
    "'''Mínimo: é o menor valor. [primeira linha]\n",
    "• Primeiro quartil (Q1 ou Percentil 25): 25% dos dados são menores que ou iguais a este valor. [ entre primeira linha e parede azul esquerda]\n",
    "• Segundo quartil (Q2 ou Percentil 50): corresponde ao valor central de um conjunto de valores ordenado, sendo uma medida de tendência central. 50% dos dados são menores que ou iguais a este valor. [valores da coluna em azul]\n",
    "• Terceiro quartil (Q3 ou Percentil 75): 75% dos dados são menores que ou iguais a este valor. [parede direita]\n",
    "• Máximo: é o maior valor. [ultima linha fora da coluna azul]\n",
    "'''"
   ]
  },
  {
   "cell_type": "code",
   "execution_count": null,
   "metadata": {
    "colab": {
     "base_uri": "https://localhost:8080/",
     "height": 488
    },
    "executionInfo": {
     "elapsed": 654,
     "status": "ok",
     "timestamp": 1754952068357,
     "user": {
      "displayName": "Gabriel Prange",
      "userId": "11983387267216982138"
     },
     "user_tz": 180
    },
    "id": "yoRpwColtbR_",
    "outputId": "eb3c04b8-1483-4489-c802-838f9660dc52"
   },
   "outputs": [
    {
     "data": {
      "image/png": "[encoded data removed]",
      "text/plain": [
       "<Figure size 800x500 with 1 Axes>"
      ]
     },
     "metadata": {},
     "output_type": "display_data"
    }
   ],
   "source": [
    "ordem_senioridade = ['Junior', 'Pleno', 'Senior', 'Executivo']\n",
    "\n",
    "plt.figure(figsize=(8,5))\n",
    "sns.boxplot(x='senioridade', y='usd', data = df_limpo, order=ordem_senioridade)\n",
    "plt.title(\"Boxplot Salário por Senioridade\")\n",
    "\n",
    "plt.xlabel(\"Senioridade\")\n",
    "plt.ylabel(\"Salário em USD\")\n",
    "\n",
    "plt.show()"
   ]
  },
  {
   "cell_type": "code",
   "execution_count": null,
   "metadata": {
    "colab": {
     "base_uri": "https://localhost:8080/",
     "height": 488
    },
    "executionInfo": {
     "elapsed": 756,
     "status": "ok",
     "timestamp": 1754952069115,
     "user": {
      "displayName": "Gabriel Prange",
      "userId": "11983387267216982138"
     },
     "user_tz": 180
    },
    "id": "lgCLvj7GwQJc",
    "outputId": "ce5cfdd0-73c2-4a41-f766-a24b71c175dc"
   },
   "outputs": [
    {
     "data": {
      "image/png": "[encoded data removed]",
      "text/plain": [
       "<Figure size 800x500 with 1 Axes>"
      ]
     },
     "metadata": {},
     "output_type": "display_data"
    }
   ],
   "source": [
    "#mudando as cores\n",
    "\n",
    "plt.figure(figsize=(8,5))\n",
    "sns.boxplot(x='senioridade', y='usd', data = df_limpo, order=ordem_senioridade, palette='Set2', hue='senioridade')\n",
    "plt.title(\"Boxplot Salário por Senioridade\")\n",
    "\n",
    "plt.xlabel(\"Senioridade\")\n",
    "plt.ylabel(\"Salário em USD\")\n",
    "\n",
    "plt.show()"
   ]
  },
  {
   "cell_type": "code",
   "execution_count": null,
   "metadata": {
    "executionInfo": {
     "elapsed": 2,
     "status": "ok",
     "timestamp": 1754952069118,
     "user": {
      "displayName": "Gabriel Prange",
      "userId": "11983387267216982138"
     },
     "user_tz": 180
    },
    "id": "MaB4sEryw7Zj"
   },
   "outputs": [],
   "source": [
    "import plotly.express as px"
   ]
  },
  {
   "cell_type": "code",
   "execution_count": null,
   "metadata": {
    "colab": {
     "base_uri": "https://localhost:8080/",
     "height": 542
    },
    "executionInfo": {
     "elapsed": 26,
     "status": "ok",
     "timestamp": 1754952069145,
     "user": {
      "displayName": "Gabriel Prange",
      "userId": "11983387267216982138"
     },
     "user_tz": 180
    },
    "id": "OhbZS5zmxU4Y",
    "outputId": "41f8616f-368e-43ad-b0da-beca52954246"
   },
   "outputs": [
    {
     "data": {
      "text/html": [
       "<html>\n",
       "<head><meta charset=\"utf-8\" /></head>\n",
       "<body>\n",
       "    <div>            <script src=\"https://cdnjs.cloudflare.com/ajax/libs/mathjax/2.7.5/MathJax.js?config=TeX-AMS-MML_SVG\"></script><script type=\"text/javascript\">if (window.MathJax && window.MathJax.Hub && window.MathJax.Hub.Config) {window.MathJax.Hub.Config({SVG: {font: \"STIX-Web\"}});}</script>                <script type=\"text/javascript\">window.PlotlyConfig = {MathJaxConfig: 'local'};</script>\n",
       "        <script charset=\"utf-8\" src=\"https://cdn.plot.ly/plotly-2.35.2.min.js\"></script>                <div id=\"ae51e58b-69ec-4c5d-9309-9bc7169806c5\" class=\"plotly-graph-div\" style=\"height:525px; width:100%;\"></div>            <script type=\"text/javascript\">                                    window.PLOTLYENV=window.PLOTLYENV || {};                                    if (document.getElementById(\"ae51e58b-69ec-4c5d-9309-9bc7169806c5\")) {                    Plotly.newPlot(                        \"ae51e58b-69ec-4c5d-9309-9bc7169806c5\",                        [{\"alignmentgroup\":\"True\",\"hovertemplate\":\"Senioridade=%{x}\\u003cbr\\u003eMédia Salarial em USD=%{y}\\u003cextra\\u003e\\u003c\\u002fextra\\u003e\",\"legendgroup\":\"\",\"marker\":{\"color\":\"#636efa\",\"pattern\":{\"shape\":\"\"}},\"name\":\"\",\"offsetgroup\":\"\",\"orientation\":\"v\",\"showlegend\":false,\"textposition\":\"auto\",\"x\":[\"Executivo\",\"Senior\",\"Pleno\",\"Junior\"],\"xaxis\":\"x\",\"y\":[202027.6678125,172850.83830079238,143044.8459789432,99034.96326661843],\"yaxis\":\"y\",\"type\":\"bar\"}],                        {\"template\":{\"data\":{\"histogram2dcontour\":[{\"type\":\"histogram2dcontour\",\"colorbar\":{\"outlinewidth\":0,\"ticks\":\"\"},\"colorscale\":[[0.0,\"#0d0887\"],[0.1111111111111111,\"#46039f\"],[0.2222222222222222,\"#7201a8\"],[0.3333333333333333,\"#9c179e\"],[0.4444444444444444,\"#bd3786\"],[0.5555555555555556,\"#d8576b\"],[0.6666666666666666,\"#ed7953\"],[0.7777777777777778,\"#fb9f3a\"],[0.8888888888888888,\"#fdca26\"],[1.0,\"#f0f921\"]]}],\"choropleth\":[{\"type\":\"choropleth\",\"colorbar\":{\"outlinewidth\":0,\"ticks\":\"\"}}],\"histogram2d\":[{\"type\":\"histogram2d\",\"colorbar\":{\"outlinewidth\":0,\"ticks\":\"\"},\"colorscale\":[[0.0,\"#0d0887\"],[0.1111111111111111,\"#46039f\"],[0.2222222222222222,\"#7201a8\"],[0.3333333333333333,\"#9c179e\"],[0.4444444444444444,\"#bd3786\"],[0.5555555555555556,\"#d8576b\"],[0.6666666666666666,\"#ed7953\"],[0.7777777777777778,\"#fb9f3a\"],[0.8888888888888888,\"#fdca26\"],[1.0,\"#f0f921\"]]}],\"heatmap\":[{\"type\":\"heatmap\",\"colorbar\":{\"outlinewidth\":0,\"ticks\":\"\"},\"colorscale\":[[0.0,\"#0d0887\"],[0.1111111111111111,\"#46039f\"],[0.2222222222222222,\"#7201a8\"],[0.3333333333333333,\"#9c179e\"],[0.4444444444444444,\"#bd3786\"],[0.5555555555555556,\"#d8576b\"],[0.6666666666666666,\"#ed7953\"],[0.7777777777777778,\"#fb9f3a\"],[0.8888888888888888,\"#fdca26\"],[1.0,\"#f0f921\"]]}],\"heatmapgl\":[{\"type\":\"heatmapgl\",\"colorbar\":{\"outlinewidth\":0,\"ticks\":\"\"},\"colorscale\":[[0.0,\"#0d0887\"],[0.1111111111111111,\"#46039f\"],[0.2222222222222222,\"#7201a8\"],[0.3333333333333333,\"#9c179e\"],[0.4444444444444444,\"#bd3786\"],[0.5555555555555556,\"#d8576b\"],[0.6666666666666666,\"#ed7953\"],[0.7777777777777778,\"#fb9f3a\"],[0.8888888888888888,\"#fdca26\"],[1.0,\"#f0f921\"]]}],\"contourcarpet\":[{\"type\":\"contourcarpet\",\"colorbar\":{\"outlinewidth\":0,\"ticks\":\"\"}}],\"contour\":[{\"type\":\"contour\",\"colorbar\":{\"outlinewidth\":0,\"ticks\":\"\"},\"colorscale\":[[0.0,\"#0d0887\"],[0.1111111111111111,\"#46039f\"],[0.2222222222222222,\"#7201a8\"],[0.3333333333333333,\"#9c179e\"],[0.4444444444444444,\"#bd3786\"],[0.5555555555555556,\"#d8576b\"],[0.6666666666666666,\"#ed7953\"],[0.7777777777777778,\"#fb9f3a\"],[0.8888888888888888,\"#fdca26\"],[1.0,\"#f0f921\"]]}],\"surface\":[{\"type\":\"surface\",\"colorbar\":{\"outlinewidth\":0,\"ticks\":\"\"},\"colorscale\":[[0.0,\"#0d0887\"],[0.1111111111111111,\"#46039f\"],[0.2222222222222222,\"#7201a8\"],[0.3333333333333333,\"#9c179e\"],[0.4444444444444444,\"#bd3786\"],[0.5555555555555556,\"#d8576b\"],[0.6666666666666666,\"#ed7953\"],[0.7777777777777778,\"#fb9f3a\"],[0.8888888888888888,\"#fdca26\"],[1.0,\"#f0f921\"]]}],\"mesh3d\":[{\"type\":\"mesh3d\",\"colorbar\":{\"outlinewidth\":0,\"ticks\":\"\"}}],\"scatter\":[{\"fillpattern\":{\"fillmode\":\"overlay\",\"size\":10,\"solidity\":0.2},\"type\":\"scatter\"}],\"parcoords\":[{\"type\":\"parcoords\",\"line\":{\"colorbar\":{\"outlinewidth\":0,\"ticks\":\"\"}}}],\"scatterpolargl\":[{\"type\":\"scatterpolargl\",\"marker\":{\"colorbar\":{\"outlinewidth\":0,\"ticks\":\"\"}}}],\"bar\":[{\"error_x\":{\"color\":\"#2a3f5f\"},\"error_y\":{\"color\":\"#2a3f5f\"},\"marker\":{\"line\":{\"color\":\"#E5ECF6\",\"width\":0.5},\"pattern\":{\"fillmode\":\"overlay\",\"size\":10,\"solidity\":0.2}},\"type\":\"bar\"}],\"scattergeo\":[{\"type\":\"scattergeo\",\"marker\":{\"colorbar\":{\"outlinewidth\":0,\"ticks\":\"\"}}}],\"scatterpolar\":[{\"type\":\"scatterpolar\",\"marker\":{\"colorbar\":{\"outlinewidth\":0,\"ticks\":\"\"}}}],\"histogram\":[{\"marker\":{\"pattern\":{\"fillmode\":\"overlay\",\"size\":10,\"solidity\":0.2}},\"type\":\"histogram\"}],\"scattergl\":[{\"type\":\"scattergl\",\"marker\":{\"colorbar\":{\"outlinewidth\":0,\"ticks\":\"\"}}}],\"scatter3d\":[{\"type\":\"scatter3d\",\"line\":{\"colorbar\":{\"outlinewidth\":0,\"ticks\":\"\"}},\"marker\":{\"colorbar\":{\"outlinewidth\":0,\"ticks\":\"\"}}}],\"scattermapbox\":[{\"type\":\"scattermapbox\",\"marker\":{\"colorbar\":{\"outlinewidth\":0,\"ticks\":\"\"}}}],\"scatterternary\":[{\"type\":\"scatterternary\",\"marker\":{\"colorbar\":{\"outlinewidth\":0,\"ticks\":\"\"}}}],\"scattercarpet\":[{\"type\":\"scattercarpet\",\"marker\":{\"colorbar\":{\"outlinewidth\":0,\"ticks\":\"\"}}}],\"carpet\":[{\"aaxis\":{\"endlinecolor\":\"#2a3f5f\",\"gridcolor\":\"white\",\"linecolor\":\"white\",\"minorgridcolor\":\"white\",\"startlinecolor\":\"#2a3f5f\"},\"baxis\":{\"endlinecolor\":\"#2a3f5f\",\"gridcolor\":\"white\",\"linecolor\":\"white\",\"minorgridcolor\":\"white\",\"startlinecolor\":\"#2a3f5f\"},\"type\":\"carpet\"}],\"table\":[{\"cells\":{\"fill\":{\"color\":\"#EBF0F8\"},\"line\":{\"color\":\"white\"}},\"header\":{\"fill\":{\"color\":\"#C8D4E3\"},\"line\":{\"color\":\"white\"}},\"type\":\"table\"}],\"barpolar\":[{\"marker\":{\"line\":{\"color\":\"#E5ECF6\",\"width\":0.5},\"pattern\":{\"fillmode\":\"overlay\",\"size\":10,\"solidity\":0.2}},\"type\":\"barpolar\"}],\"pie\":[{\"automargin\":true,\"type\":\"pie\"}]},\"layout\":{\"autotypenumbers\":\"strict\",\"colorway\":[\"#636efa\",\"#EF553B\",\"#00cc96\",\"#ab63fa\",\"#FFA15A\",\"#19d3f3\",\"#FF6692\",\"#B6E880\",\"#FF97FF\",\"#FECB52\"],\"font\":{\"color\":\"#2a3f5f\"},\"hovermode\":\"closest\",\"hoverlabel\":{\"align\":\"left\"},\"paper_bgcolor\":\"white\",\"plot_bgcolor\":\"#E5ECF6\",\"polar\":{\"bgcolor\":\"#E5ECF6\",\"angularaxis\":{\"gridcolor\":\"white\",\"linecolor\":\"white\",\"ticks\":\"\"},\"radialaxis\":{\"gridcolor\":\"white\",\"linecolor\":\"white\",\"ticks\":\"\"}},\"ternary\":{\"bgcolor\":\"#E5ECF6\",\"aaxis\":{\"gridcolor\":\"white\",\"linecolor\":\"white\",\"ticks\":\"\"},\"baxis\":{\"gridcolor\":\"white\",\"linecolor\":\"white\",\"ticks\":\"\"},\"caxis\":{\"gridcolor\":\"white\",\"linecolor\":\"white\",\"ticks\":\"\"}},\"coloraxis\":{\"colorbar\":{\"outlinewidth\":0,\"ticks\":\"\"}},\"colorscale\":{\"sequential\":[[0.0,\"#0d0887\"],[0.1111111111111111,\"#46039f\"],[0.2222222222222222,\"#7201a8\"],[0.3333333333333333,\"#9c179e\"],[0.4444444444444444,\"#bd3786\"],[0.5555555555555556,\"#d8576b\"],[0.6666666666666666,\"#ed7953\"],[0.7777777777777778,\"#fb9f3a\"],[0.8888888888888888,\"#fdca26\"],[1.0,\"#f0f921\"]],\"sequentialminus\":[[0.0,\"#0d0887\"],[0.1111111111111111,\"#46039f\"],[0.2222222222222222,\"#7201a8\"],[0.3333333333333333,\"#9c179e\"],[0.4444444444444444,\"#bd3786\"],[0.5555555555555556,\"#d8576b\"],[0.6666666666666666,\"#ed7953\"],[0.7777777777777778,\"#fb9f3a\"],[0.8888888888888888,\"#fdca26\"],[1.0,\"#f0f921\"]],\"diverging\":[[0,\"#8e0152\"],[0.1,\"#c51b7d\"],[0.2,\"#de77ae\"],[0.3,\"#f1b6da\"],[0.4,\"#fde0ef\"],[0.5,\"#f7f7f7\"],[0.6,\"#e6f5d0\"],[0.7,\"#b8e186\"],[0.8,\"#7fbc41\"],[0.9,\"#4d9221\"],[1,\"#276419\"]]},\"xaxis\":{\"gridcolor\":\"white\",\"linecolor\":\"white\",\"ticks\":\"\",\"title\":{\"standoff\":15},\"zerolinecolor\":\"white\",\"automargin\":true,\"zerolinewidth\":2},\"yaxis\":{\"gridcolor\":\"white\",\"linecolor\":\"white\",\"ticks\":\"\",\"title\":{\"standoff\":15},\"zerolinecolor\":\"white\",\"automargin\":true,\"zerolinewidth\":2},\"scene\":{\"xaxis\":{\"backgroundcolor\":\"#E5ECF6\",\"gridcolor\":\"white\",\"linecolor\":\"white\",\"showbackground\":true,\"ticks\":\"\",\"zerolinecolor\":\"white\",\"gridwidth\":2},\"yaxis\":{\"backgroundcolor\":\"#E5ECF6\",\"gridcolor\":\"white\",\"linecolor\":\"white\",\"showbackground\":true,\"ticks\":\"\",\"zerolinecolor\":\"white\",\"gridwidth\":2},\"zaxis\":{\"backgroundcolor\":\"#E5ECF6\",\"gridcolor\":\"white\",\"linecolor\":\"white\",\"showbackground\":true,\"ticks\":\"\",\"zerolinecolor\":\"white\",\"gridwidth\":2}},\"shapedefaults\":{\"line\":{\"color\":\"#2a3f5f\"}},\"annotationdefaults\":{\"arrowcolor\":\"#2a3f5f\",\"arrowhead\":0,\"arrowwidth\":1},\"geo\":{\"bgcolor\":\"white\",\"landcolor\":\"#E5ECF6\",\"subunitcolor\":\"white\",\"showland\":true,\"showlakes\":true,\"lakecolor\":\"white\"},\"title\":{\"x\":0.05},\"mapbox\":{\"style\":\"light\"}}},\"xaxis\":{\"anchor\":\"y\",\"domain\":[0.0,1.0],\"title\":{\"text\":\"Senioridade\"}},\"yaxis\":{\"anchor\":\"x\",\"domain\":[0.0,1.0],\"title\":{\"text\":\"Média Salarial em USD\"}},\"legend\":{\"tracegroupgap\":0},\"title\":{\"text\":\"Média Salarial por Senioridade\"},\"barmode\":\"relative\"},                        {\"responsive\": true}                    ).then(function(){\n",
       "                            \n",
       "var gd = document.getElementById('ae51e58b-69ec-4c5d-9309-9bc7169806c5');\n",
       "var x = new MutationObserver(function (mutations, observer) {{\n",
       "        var display = window.getComputedStyle(gd).display;\n",
       "        if (!display || display === 'none') {{\n",
       "            console.log([gd, 'removed!']);\n",
       "            Plotly.purge(gd);\n",
       "            observer.disconnect();\n",
       "        }}\n",
       "}});\n",
       "\n",
       "// Listen for the removal of the full notebook cells\n",
       "var notebookContainer = gd.closest('#notebook-container');\n",
       "if (notebookContainer) {{\n",
       "    x.observe(notebookContainer, {childList: true});\n",
       "}}\n",
       "\n",
       "// Listen for the clearing of the current output cell\n",
       "var outputEl = gd.closest('.output');\n",
       "if (outputEl) {{\n",
       "    x.observe(outputEl, {childList: true});\n",
       "}}\n",
       "\n",
       "                        })                };                            </script>        </div>\n",
       "</body>\n",
       "</html>"
      ]
     },
     "metadata": {},
     "output_type": "display_data"
    }
   ],
   "source": [
    "#prompt: Crie um gráfico de média salarial por senioridade em barras, usando o plotly\n",
    "\n",
    "senioridade_media_salario = df_limpo.groupby('senioridade')['usd'].mean().sort_values(ascending=False).reset_index()\n",
    "\n",
    "fig = px.bar(senioridade_media_salario,\n",
    "             x='senioridade',\n",
    "             y='usd',\n",
    "             title='Média Salarial por Senioridade',\n",
    "             labels={'senioridade': 'Senioridade', 'usd': 'Média Salarial em USD'})\n",
    "fig.show()"
   ]
  },
  {
   "cell_type": "code",
   "execution_count": null,
   "metadata": {
    "colab": {
     "base_uri": "https://localhost:8080/",
     "height": 542
    },
    "executionInfo": {
     "elapsed": 39,
     "status": "ok",
     "timestamp": 1754952069185,
     "user": {
      "displayName": "Gabriel Prange",
      "userId": "11983387267216982138"
     },
     "user_tz": 180
    },
    "id": "cQYotOb0ykqe",
    "outputId": "ebced7f5-4f5b-4e08-e7de-6bb2fcb5138d"
   },
   "outputs": [
    {
     "data": {
      "text/html": [
       "<html>\n",
       "<head><meta charset=\"utf-8\" /></head>\n",
       "<body>\n",
       "    <div>            <script src=\"https://cdnjs.cloudflare.com/ajax/libs/mathjax/2.7.5/MathJax.js?config=TeX-AMS-MML_SVG\"></script><script type=\"text/javascript\">if (window.MathJax && window.MathJax.Hub && window.MathJax.Hub.Config) {window.MathJax.Hub.Config({SVG: {font: \"STIX-Web\"}});}</script>                <script type=\"text/javascript\">window.PlotlyConfig = {MathJaxConfig: 'local'};</script>\n",
       "        <script charset=\"utf-8\" src=\"https://cdn.plot.ly/plotly-2.35.2.min.js\"></script>                <div id=\"83216859-0725-47c7-a638-486ff19114db\" class=\"plotly-graph-div\" style=\"height:525px; width:100%;\"></div>            <script type=\"text/javascript\">                                    window.PLOTLYENV=window.PLOTLYENV || {};                                    if (document.getElementById(\"83216859-0725-47c7-a638-486ff19114db\")) {                    Plotly.newPlot(                        \"83216859-0725-47c7-a638-486ff19114db\",                        [{\"domain\":{\"x\":[0.0,1.0],\"y\":[0.0,1.0]},\"hovertemplate\":\"tipo_trabalho=%{label}\\u003cbr\\u003equantidade=%{value}\\u003cextra\\u003e\\u003c\\u002fextra\\u003e\",\"labels\":[\"Presencial\",\"Remoto\",\"Híbrido\"],\"legendgroup\":\"\",\"name\":\"\",\"showlegend\":true,\"values\":[105305,27716,318],\"type\":\"pie\"}],                        {\"template\":{\"data\":{\"histogram2dcontour\":[{\"type\":\"histogram2dcontour\",\"colorbar\":{\"outlinewidth\":0,\"ticks\":\"\"},\"colorscale\":[[0.0,\"#0d0887\"],[0.1111111111111111,\"#46039f\"],[0.2222222222222222,\"#7201a8\"],[0.3333333333333333,\"#9c179e\"],[0.4444444444444444,\"#bd3786\"],[0.5555555555555556,\"#d8576b\"],[0.6666666666666666,\"#ed7953\"],[0.7777777777777778,\"#fb9f3a\"],[0.8888888888888888,\"#fdca26\"],[1.0,\"#f0f921\"]]}],\"choropleth\":[{\"type\":\"choropleth\",\"colorbar\":{\"outlinewidth\":0,\"ticks\":\"\"}}],\"histogram2d\":[{\"type\":\"histogram2d\",\"colorbar\":{\"outlinewidth\":0,\"ticks\":\"\"},\"colorscale\":[[0.0,\"#0d0887\"],[0.1111111111111111,\"#46039f\"],[0.2222222222222222,\"#7201a8\"],[0.3333333333333333,\"#9c179e\"],[0.4444444444444444,\"#bd3786\"],[0.5555555555555556,\"#d8576b\"],[0.6666666666666666,\"#ed7953\"],[0.7777777777777778,\"#fb9f3a\"],[0.8888888888888888,\"#fdca26\"],[1.0,\"#f0f921\"]]}],\"heatmap\":[{\"type\":\"heatmap\",\"colorbar\":{\"outlinewidth\":0,\"ticks\":\"\"},\"colorscale\":[[0.0,\"#0d0887\"],[0.1111111111111111,\"#46039f\"],[0.2222222222222222,\"#7201a8\"],[0.3333333333333333,\"#9c179e\"],[0.4444444444444444,\"#bd3786\"],[0.5555555555555556,\"#d8576b\"],[0.6666666666666666,\"#ed7953\"],[0.7777777777777778,\"#fb9f3a\"],[0.8888888888888888,\"#fdca26\"],[1.0,\"#f0f921\"]]}],\"heatmapgl\":[{\"type\":\"heatmapgl\",\"colorbar\":{\"outlinewidth\":0,\"ticks\":\"\"},\"colorscale\":[[0.0,\"#0d0887\"],[0.1111111111111111,\"#46039f\"],[0.2222222222222222,\"#7201a8\"],[0.3333333333333333,\"#9c179e\"],[0.4444444444444444,\"#bd3786\"],[0.5555555555555556,\"#d8576b\"],[0.6666666666666666,\"#ed7953\"],[0.7777777777777778,\"#fb9f3a\"],[0.8888888888888888,\"#fdca26\"],[1.0,\"#f0f921\"]]}],\"contourcarpet\":[{\"type\":\"contourcarpet\",\"colorbar\":{\"outlinewidth\":0,\"ticks\":\"\"}}],\"contour\":[{\"type\":\"contour\",\"colorbar\":{\"outlinewidth\":0,\"ticks\":\"\"},\"colorscale\":[[0.0,\"#0d0887\"],[0.1111111111111111,\"#46039f\"],[0.2222222222222222,\"#7201a8\"],[0.3333333333333333,\"#9c179e\"],[0.4444444444444444,\"#bd3786\"],[0.5555555555555556,\"#d8576b\"],[0.6666666666666666,\"#ed7953\"],[0.7777777777777778,\"#fb9f3a\"],[0.8888888888888888,\"#fdca26\"],[1.0,\"#f0f921\"]]}],\"surface\":[{\"type\":\"surface\",\"colorbar\":{\"outlinewidth\":0,\"ticks\":\"\"},\"colorscale\":[[0.0,\"#0d0887\"],[0.1111111111111111,\"#46039f\"],[0.2222222222222222,\"#7201a8\"],[0.3333333333333333,\"#9c179e\"],[0.4444444444444444,\"#bd3786\"],[0.5555555555555556,\"#d8576b\"],[0.6666666666666666,\"#ed7953\"],[0.7777777777777778,\"#fb9f3a\"],[0.8888888888888888,\"#fdca26\"],[1.0,\"#f0f921\"]]}],\"mesh3d\":[{\"type\":\"mesh3d\",\"colorbar\":{\"outlinewidth\":0,\"ticks\":\"\"}}],\"scatter\":[{\"fillpattern\":{\"fillmode\":\"overlay\",\"size\":10,\"solidity\":0.2},\"type\":\"scatter\"}],\"parcoords\":[{\"type\":\"parcoords\",\"line\":{\"colorbar\":{\"outlinewidth\":0,\"ticks\":\"\"}}}],\"scatterpolargl\":[{\"type\":\"scatterpolargl\",\"marker\":{\"colorbar\":{\"outlinewidth\":0,\"ticks\":\"\"}}}],\"bar\":[{\"error_x\":{\"color\":\"#2a3f5f\"},\"error_y\":{\"color\":\"#2a3f5f\"},\"marker\":{\"line\":{\"color\":\"#E5ECF6\",\"width\":0.5},\"pattern\":{\"fillmode\":\"overlay\",\"size\":10,\"solidity\":0.2}},\"type\":\"bar\"}],\"scattergeo\":[{\"type\":\"scattergeo\",\"marker\":{\"colorbar\":{\"outlinewidth\":0,\"ticks\":\"\"}}}],\"scatterpolar\":[{\"type\":\"scatterpolar\",\"marker\":{\"colorbar\":{\"outlinewidth\":0,\"ticks\":\"\"}}}],\"histogram\":[{\"marker\":{\"pattern\":{\"fillmode\":\"overlay\",\"size\":10,\"solidity\":0.2}},\"type\":\"histogram\"}],\"scattergl\":[{\"type\":\"scattergl\",\"marker\":{\"colorbar\":{\"outlinewidth\":0,\"ticks\":\"\"}}}],\"scatter3d\":[{\"type\":\"scatter3d\",\"line\":{\"colorbar\":{\"outlinewidth\":0,\"ticks\":\"\"}},\"marker\":{\"colorbar\":{\"outlinewidth\":0,\"ticks\":\"\"}}}],\"scattermapbox\":[{\"type\":\"scattermapbox\",\"marker\":{\"colorbar\":{\"outlinewidth\":0,\"ticks\":\"\"}}}],\"scatterternary\":[{\"type\":\"scatterternary\",\"marker\":{\"colorbar\":{\"outlinewidth\":0,\"ticks\":\"\"}}}],\"scattercarpet\":[{\"type\":\"scattercarpet\",\"marker\":{\"colorbar\":{\"outlinewidth\":0,\"ticks\":\"\"}}}],\"carpet\":[{\"aaxis\":{\"endlinecolor\":\"#2a3f5f\",\"gridcolor\":\"white\",\"linecolor\":\"white\",\"minorgridcolor\":\"white\",\"startlinecolor\":\"#2a3f5f\"},\"baxis\":{\"endlinecolor\":\"#2a3f5f\",\"gridcolor\":\"white\",\"linecolor\":\"white\",\"minorgridcolor\":\"white\",\"startlinecolor\":\"#2a3f5f\"},\"type\":\"carpet\"}],\"table\":[{\"cells\":{\"fill\":{\"color\":\"#EBF0F8\"},\"line\":{\"color\":\"white\"}},\"header\":{\"fill\":{\"color\":\"#C8D4E3\"},\"line\":{\"color\":\"white\"}},\"type\":\"table\"}],\"barpolar\":[{\"marker\":{\"line\":{\"color\":\"#E5ECF6\",\"width\":0.5},\"pattern\":{\"fillmode\":\"overlay\",\"size\":10,\"solidity\":0.2}},\"type\":\"barpolar\"}],\"pie\":[{\"automargin\":true,\"type\":\"pie\"}]},\"layout\":{\"autotypenumbers\":\"strict\",\"colorway\":[\"#636efa\",\"#EF553B\",\"#00cc96\",\"#ab63fa\",\"#FFA15A\",\"#19d3f3\",\"#FF6692\",\"#B6E880\",\"#FF97FF\",\"#FECB52\"],\"font\":{\"color\":\"#2a3f5f\"},\"hovermode\":\"closest\",\"hoverlabel\":{\"align\":\"left\"},\"paper_bgcolor\":\"white\",\"plot_bgcolor\":\"#E5ECF6\",\"polar\":{\"bgcolor\":\"#E5ECF6\",\"angularaxis\":{\"gridcolor\":\"white\",\"linecolor\":\"white\",\"ticks\":\"\"},\"radialaxis\":{\"gridcolor\":\"white\",\"linecolor\":\"white\",\"ticks\":\"\"}},\"ternary\":{\"bgcolor\":\"#E5ECF6\",\"aaxis\":{\"gridcolor\":\"white\",\"linecolor\":\"white\",\"ticks\":\"\"},\"baxis\":{\"gridcolor\":\"white\",\"linecolor\":\"white\",\"ticks\":\"\"},\"caxis\":{\"gridcolor\":\"white\",\"linecolor\":\"white\",\"ticks\":\"\"}},\"coloraxis\":{\"colorbar\":{\"outlinewidth\":0,\"ticks\":\"\"}},\"colorscale\":{\"sequential\":[[0.0,\"#0d0887\"],[0.1111111111111111,\"#46039f\"],[0.2222222222222222,\"#7201a8\"],[0.3333333333333333,\"#9c179e\"],[0.4444444444444444,\"#bd3786\"],[0.5555555555555556,\"#d8576b\"],[0.6666666666666666,\"#ed7953\"],[0.7777777777777778,\"#fb9f3a\"],[0.8888888888888888,\"#fdca26\"],[1.0,\"#f0f921\"]],\"sequentialminus\":[[0.0,\"#0d0887\"],[0.1111111111111111,\"#46039f\"],[0.2222222222222222,\"#7201a8\"],[0.3333333333333333,\"#9c179e\"],[0.4444444444444444,\"#bd3786\"],[0.5555555555555556,\"#d8576b\"],[0.6666666666666666,\"#ed7953\"],[0.7777777777777778,\"#fb9f3a\"],[0.8888888888888888,\"#fdca26\"],[1.0,\"#f0f921\"]],\"diverging\":[[0,\"#8e0152\"],[0.1,\"#c51b7d\"],[0.2,\"#de77ae\"],[0.3,\"#f1b6da\"],[0.4,\"#fde0ef\"],[0.5,\"#f7f7f7\"],[0.6,\"#e6f5d0\"],[0.7,\"#b8e186\"],[0.8,\"#7fbc41\"],[0.9,\"#4d9221\"],[1,\"#276419\"]]},\"xaxis\":{\"gridcolor\":\"white\",\"linecolor\":\"white\",\"ticks\":\"\",\"title\":{\"standoff\":15},\"zerolinecolor\":\"white\",\"automargin\":true,\"zerolinewidth\":2},\"yaxis\":{\"gridcolor\":\"white\",\"linecolor\":\"white\",\"ticks\":\"\",\"title\":{\"standoff\":15},\"zerolinecolor\":\"white\",\"automargin\":true,\"zerolinewidth\":2},\"scene\":{\"xaxis\":{\"backgroundcolor\":\"#E5ECF6\",\"gridcolor\":\"white\",\"linecolor\":\"white\",\"showbackground\":true,\"ticks\":\"\",\"zerolinecolor\":\"white\",\"gridwidth\":2},\"yaxis\":{\"backgroundcolor\":\"#E5ECF6\",\"gridcolor\":\"white\",\"linecolor\":\"white\",\"showbackground\":true,\"ticks\":\"\",\"zerolinecolor\":\"white\",\"gridwidth\":2},\"zaxis\":{\"backgroundcolor\":\"#E5ECF6\",\"gridcolor\":\"white\",\"linecolor\":\"white\",\"showbackground\":true,\"ticks\":\"\",\"zerolinecolor\":\"white\",\"gridwidth\":2}},\"shapedefaults\":{\"line\":{\"color\":\"#2a3f5f\"}},\"annotationdefaults\":{\"arrowcolor\":\"#2a3f5f\",\"arrowhead\":0,\"arrowwidth\":1},\"geo\":{\"bgcolor\":\"white\",\"landcolor\":\"#E5ECF6\",\"subunitcolor\":\"white\",\"showland\":true,\"showlakes\":true,\"lakecolor\":\"white\"},\"title\":{\"x\":0.05},\"mapbox\":{\"style\":\"light\"}}},\"legend\":{\"tracegroupgap\":0},\"title\":{\"text\":\"Distribuição de Tipo de Trabalho Remoto\"}},                        {\"responsive\": true}                    ).then(function(){\n",
       "                            \n",
       "var gd = document.getElementById('83216859-0725-47c7-a638-486ff19114db');\n",
       "var x = new MutationObserver(function (mutations, observer) {{\n",
       "        var display = window.getComputedStyle(gd).display;\n",
       "        if (!display || display === 'none') {{\n",
       "            console.log([gd, 'removed!']);\n",
       "            Plotly.purge(gd);\n",
       "            observer.disconnect();\n",
       "        }}\n",
       "}});\n",
       "\n",
       "// Listen for the removal of the full notebook cells\n",
       "var notebookContainer = gd.closest('#notebook-container');\n",
       "if (notebookContainer) {{\n",
       "    x.observe(notebookContainer, {childList: true});\n",
       "}}\n",
       "\n",
       "// Listen for the clearing of the current output cell\n",
       "var outputEl = gd.closest('.output');\n",
       "if (outputEl) {{\n",
       "    x.observe(outputEl, {childList: true});\n",
       "}}\n",
       "\n",
       "                        })                };                            </script>        </div>\n",
       "</body>\n",
       "</html>"
      ]
     },
     "metadata": {},
     "output_type": "display_data"
    }
   ],
   "source": [
    "remoto_contagem = df_limpo['remoto'].value_counts().reset_index()\n",
    "remoto_contagem.columns = ['tipo_trabalho', 'quantidade']\n",
    "\n",
    "fig = px.pie(remoto_contagem,\n",
    "             names='tipo_trabalho',\n",
    "             values='quantidade',\n",
    "             title='Distribuição de Tipo de Trabalho Remoto',\n",
    "            #  labels={'tipo_trabalho': 'Tipo de Trabalho Remoto', 'quantidade': 'Quantidade'}\n",
    "             )\n",
    "\n",
    "fig.show()"
   ]
  },
  {
   "cell_type": "code",
   "execution_count": null,
   "metadata": {
    "colab": {
     "base_uri": "https://localhost:8080/",
     "height": 313
    },
    "executionInfo": {
     "elapsed": 51,
     "status": "ok",
     "timestamp": 1754952106788,
     "user": {
      "displayName": "Gabriel Prange",
      "userId": "11983387267216982138"
     },
     "user_tz": 180
    },
    "id": "c7_N2oS_QhYO",
    "outputId": "9348b57a-8f70-49af-c846-83779a6c8496"
   },
   "outputs": [
    {
     "data": {
      "application/vnd.google.colaboratory.intrinsic+json": {
       "type": "dataframe",
       "variable_name": "df"
      },
      "text/html": [
       "\n",
       "  <div id=\"df-fa68b09e-6b60-4464-a345-adafaa42b26a\" class=\"colab-df-container\">\n",
       "    <div>\n",
       "<style scoped>\n",
       "    .dataframe tbody tr th:only-of-type {\n",
       "        vertical-align: middle;\n",
       "    }\n",
       "\n",
       "    .dataframe tbody tr th {\n",
       "        vertical-align: top;\n",
       "    }\n",
       "\n",
       "    .dataframe thead th {\n",
       "        text-align: right;\n",
       "    }\n",
       "</style>\n",
       "<table border=\"1\" class=\"dataframe\">\n",
       "  <thead>\n",
       "    <tr style=\"text-align: right;\">\n",
       "      <th></th>\n",
       "      <th>ano</th>\n",
       "      <th>senioridade</th>\n",
       "      <th>contrato</th>\n",
       "      <th>cargo</th>\n",
       "      <th>salario</th>\n",
       "      <th>moeda</th>\n",
       "      <th>usd</th>\n",
       "      <th>residencia</th>\n",
       "      <th>remoto</th>\n",
       "      <th>empresa</th>\n",
       "      <th>tamanho_empresa</th>\n",
       "    </tr>\n",
       "  </thead>\n",
       "  <tbody>\n",
       "    <tr>\n",
       "      <th>0</th>\n",
       "      <td>2025.0</td>\n",
       "      <td>Senior</td>\n",
       "      <td>Tempo Integral</td>\n",
       "      <td>Solutions Engineer</td>\n",
       "      <td>214000</td>\n",
       "      <td>USD</td>\n",
       "      <td>214000</td>\n",
       "      <td>US</td>\n",
       "      <td>Remoto</td>\n",
       "      <td>US</td>\n",
       "      <td>Média</td>\n",
       "    </tr>\n",
       "    <tr>\n",
       "      <th>1</th>\n",
       "      <td>2025.0</td>\n",
       "      <td>Senior</td>\n",
       "      <td>Tempo Integral</td>\n",
       "      <td>Solutions Engineer</td>\n",
       "      <td>136000</td>\n",
       "      <td>USD</td>\n",
       "      <td>136000</td>\n",
       "      <td>US</td>\n",
       "      <td>Remoto</td>\n",
       "      <td>US</td>\n",
       "      <td>Média</td>\n",
       "    </tr>\n",
       "    <tr>\n",
       "      <th>2</th>\n",
       "      <td>2025.0</td>\n",
       "      <td>Pleno</td>\n",
       "      <td>Tempo Integral</td>\n",
       "      <td>Data Engineer</td>\n",
       "      <td>158800</td>\n",
       "      <td>USD</td>\n",
       "      <td>158800</td>\n",
       "      <td>AU</td>\n",
       "      <td>Presencial</td>\n",
       "      <td>AU</td>\n",
       "      <td>Média</td>\n",
       "    </tr>\n",
       "    <tr>\n",
       "      <th>3</th>\n",
       "      <td>2025.0</td>\n",
       "      <td>Pleno</td>\n",
       "      <td>Tempo Integral</td>\n",
       "      <td>Data Engineer</td>\n",
       "      <td>139200</td>\n",
       "      <td>USD</td>\n",
       "      <td>139200</td>\n",
       "      <td>AU</td>\n",
       "      <td>Presencial</td>\n",
       "      <td>AU</td>\n",
       "      <td>Média</td>\n",
       "    </tr>\n",
       "    <tr>\n",
       "      <th>4</th>\n",
       "      <td>2025.0</td>\n",
       "      <td>Junior</td>\n",
       "      <td>Tempo Integral</td>\n",
       "      <td>Data Engineer</td>\n",
       "      <td>90000</td>\n",
       "      <td>USD</td>\n",
       "      <td>90000</td>\n",
       "      <td>US</td>\n",
       "      <td>Presencial</td>\n",
       "      <td>US</td>\n",
       "      <td>Média</td>\n",
       "    </tr>\n",
       "  </tbody>\n",
       "</table>\n",
       "</div>\n",
       "    <div class=\"colab-df-buttons\">\n",
       "\n",
       "  <div class=\"colab-df-container\">\n",
       "    <button class=\"colab-df-convert\" onclick=\"convertToInteractive('df-fa68b09e-6b60-4464-a345-adafaa42b26a')\"\n",
       "            title=\"Convert this dataframe to an interactive table.\"\n",
       "            style=\"display:none;\">\n",
       "\n",
       "  <svg xmlns=\"http://www.w3.org/2000/svg\" height=\"24px\" viewBox=\"0 -960 960 960\">\n",
       "    <path d=\"M120-120v-720h720v720H120Zm60-500h600v-160H180v160Zm220 220h160v-160H400v160Zm0 220h160v-160H400v160ZM180-400h160v-160H180v160Zm440 0h160v-160H620v160ZM180-180h160v-160H180v160Zm440 0h160v-160H620v160Z\"/>\n",
       "  </svg>\n",
       "    </button>\n",
       "\n",
       "  <style>\n",
       "    .colab-df-container {\n",
       "      display:flex;\n",
       "      gap: 12px;\n",
       "    }\n",
       "\n",
       "    .colab-df-convert {\n",
       "      background-color: #E8F0FE;\n",
       "      border: none;\n",
       "      border-radius: 50%;\n",
       "      cursor: pointer;\n",
       "      display: none;\n",
       "      fill: #1967D2;\n",
       "      height: 32px;\n",
       "      padding: 0 0 0 0;\n",
       "      width: 32px;\n",
       "    }\n",
       "\n",
       "    .colab-df-convert:hover {\n",
       "      background-color: #E2EBFA;\n",
       "      box-shadow: 0px 1px 2px rgba(60, 64, 67, 0.3), 0px 1px 3px 1px rgba(60, 64, 67, 0.15);\n",
       "      fill: #174EA6;\n",
       "    }\n",
       "\n",
       "    .colab-df-buttons div {\n",
       "      margin-bottom: 4px;\n",
       "    }\n",
       "\n",
       "    [theme=dark] .colab-df-convert {\n",
       "      background-color: #3B4455;\n",
       "      fill: #D2E3FC;\n",
       "    }\n",
       "\n",
       "    [theme=dark] .colab-df-convert:hover {\n",
       "      background-color: #434B5C;\n",
       "      box-shadow: 0px 1px 3px 1px rgba(0, 0, 0, 0.15);\n",
       "      filter: drop-shadow(0px 1px 2px rgba(0, 0, 0, 0.3));\n",
       "      fill: #FFFFFF;\n",
       "    }\n",
       "  </style>\n",
       "\n",
       "    <script>\n",
       "      const buttonEl =\n",
       "        document.querySelector('#df-fa68b09e-6b60-4464-a345-adafaa42b26a button.colab-df-convert');\n",
       "      buttonEl.style.display =\n",
       "        google.colab.kernel.accessAllowed ? 'block' : 'none';\n",
       "\n",
       "      async function convertToInteractive(key) {\n",
       "        const element = document.querySelector('#df-fa68b09e-6b60-4464-a345-adafaa42b26a');\n",
       "        const dataTable =\n",
       "          await google.colab.kernel.invokeFunction('convertToInteractive',\n",
       "                                                    [key], {});\n",
       "        if (!dataTable) return;\n",
       "\n",
       "        const docLinkHtml = 'Like what you see? Visit the ' +\n",
       "          '<a target=\"_blank\" href=https://colab.research.google.com/notebooks/data_table.ipynb>data table notebook</a>'\n",
       "          + ' to learn more about interactive tables.';\n",
       "        element.innerHTML = '';\n",
       "        dataTable['output_type'] = 'display_data';\n",
       "        await google.colab.output.renderOutput(dataTable, element);\n",
       "        const docLink = document.createElement('div');\n",
       "        docLink.innerHTML = docLinkHtml;\n",
       "        element.appendChild(docLink);\n",
       "      }\n",
       "    </script>\n",
       "  </div>\n",
       "\n",
       "\n",
       "    <div id=\"df-cbda96d8-420a-4d10-9034-dc269b0c3ac3\">\n",
       "      <button class=\"colab-df-quickchart\" onclick=\"quickchart('df-cbda96d8-420a-4d10-9034-dc269b0c3ac3')\"\n",
       "                title=\"Suggest charts\"\n",
       "                style=\"display:none;\">\n",
       "\n",
       "<svg xmlns=\"http://www.w3.org/2000/svg\" height=\"24px\"viewBox=\"0 0 24 24\"\n",
       "     width=\"24px\">\n",
       "    <g>\n",
       "        <path d=\"M19 3H5c-1.1 0-2 .9-2 2v14c0 1.1.9 2 2 2h14c1.1 0 2-.9 2-2V5c0-1.1-.9-2-2-2zM9 17H7v-7h2v7zm4 0h-2V7h2v10zm4 0h-2v-4h2v4z\"/>\n",
       "    </g>\n",
       "</svg>\n",
       "      </button>\n",
       "\n",
       "<style>\n",
       "  .colab-df-quickchart {\n",
       "      --bg-color: #E8F0FE;\n",
       "      --fill-color: #1967D2;\n",
       "      --hover-bg-color: #E2EBFA;\n",
       "      --hover-fill-color: #174EA6;\n",
       "      --disabled-fill-color: #AAA;\n",
       "      --disabled-bg-color: #DDD;\n",
       "  }\n",
       "\n",
       "  [theme=dark] .colab-df-quickchart {\n",
       "      --bg-color: #3B4455;\n",
       "      --fill-color: #D2E3FC;\n",
       "      --hover-bg-color: #434B5C;\n",
       "      --hover-fill-color: #FFFFFF;\n",
       "      --disabled-bg-color: #3B4455;\n",
       "      --disabled-fill-color: #666;\n",
       "  }\n",
       "\n",
       "  .colab-df-quickchart {\n",
       "    background-color: var(--bg-color);\n",
       "    border: none;\n",
       "    border-radius: 50%;\n",
       "    cursor: pointer;\n",
       "    display: none;\n",
       "    fill: var(--fill-color);\n",
       "    height: 32px;\n",
       "    padding: 0;\n",
       "    width: 32px;\n",
       "  }\n",
       "\n",
       "  .colab-df-quickchart:hover {\n",
       "    background-color: var(--hover-bg-color);\n",
       "    box-shadow: 0 1px 2px rgba(60, 64, 67, 0.3), 0 1px 3px 1px rgba(60, 64, 67, 0.15);\n",
       "    fill: var(--button-hover-fill-color);\n",
       "  }\n",
       "\n",
       "  .colab-df-quickchart-complete:disabled,\n",
       "  .colab-df-quickchart-complete:disabled:hover {\n",
       "    background-color: var(--disabled-bg-color);\n",
       "    fill: var(--disabled-fill-color);\n",
       "    box-shadow: none;\n",
       "  }\n",
       "\n",
       "  .colab-df-spinner {\n",
       "    border: 2px solid var(--fill-color);\n",
       "    border-color: transparent;\n",
       "    border-bottom-color: var(--fill-color);\n",
       "    animation:\n",
       "      spin 1s steps(1) infinite;\n",
       "  }\n",
       "\n",
       "  @keyframes spin {\n",
       "    0% {\n",
       "      border-color: transparent;\n",
       "      border-bottom-color: var(--fill-color);\n",
       "      border-left-color: var(--fill-color);\n",
       "    }\n",
       "    20% {\n",
       "      border-color: transparent;\n",
       "      border-left-color: var(--fill-color);\n",
       "      border-top-color: var(--fill-color);\n",
       "    }\n",
       "    30% {\n",
       "      border-color: transparent;\n",
       "      border-left-color: var(--fill-color);\n",
       "      border-top-color: var(--fill-color);\n",
       "      border-right-color: var(--fill-color);\n",
       "    }\n",
       "    40% {\n",
       "      border-color: transparent;\n",
       "      border-right-color: var(--fill-color);\n",
       "      border-top-color: var(--fill-color);\n",
       "    }\n",
       "    60% {\n",
       "      border-color: transparent;\n",
       "      border-right-color: var(--fill-color);\n",
       "    }\n",
       "    80% {\n",
       "      border-color: transparent;\n",
       "      border-right-color: var(--fill-color);\n",
       "      border-bottom-color: var(--fill-color);\n",
       "    }\n",
       "    90% {\n",
       "      border-color: transparent;\n",
       "      border-bottom-color: var(--fill-color);\n",
       "    }\n",
       "  }\n",
       "</style>\n",
       "\n",
       "      <script>\n",
       "        async function quickchart(key) {\n",
       "          const quickchartButtonEl =\n",
       "            document.querySelector('#' + key + ' button');\n",
       "          quickchartButtonEl.disabled = true;  // To prevent multiple clicks.\n",
       "          quickchartButtonEl.classList.add('colab-df-spinner');\n",
       "          try {\n",
       "            const charts = await google.colab.kernel.invokeFunction(\n",
       "                'suggestCharts', [key], {});\n",
       "          } catch (error) {\n",
       "            console.error('Error during call to suggestCharts:', error);\n",
       "          }\n",
       "          quickchartButtonEl.classList.remove('colab-df-spinner');\n",
       "          quickchartButtonEl.classList.add('colab-df-quickchart-complete');\n",
       "        }\n",
       "        (() => {\n",
       "          let quickchartButtonEl =\n",
       "            document.querySelector('#df-cbda96d8-420a-4d10-9034-dc269b0c3ac3 button');\n",
       "          quickchartButtonEl.style.display =\n",
       "            google.colab.kernel.accessAllowed ? 'block' : 'none';\n",
       "        })();\n",
       "      </script>\n",
       "    </div>\n",
       "\n",
       "    </div>\n",
       "  </div>\n"
      ],
      "text/plain": [
       "      ano senioridade        contrato               cargo  salario moeda  \\\n",
       "0  2025.0      Senior  Tempo Integral  Solutions Engineer   214000   USD   \n",
       "1  2025.0      Senior  Tempo Integral  Solutions Engineer   136000   USD   \n",
       "2  2025.0       Pleno  Tempo Integral       Data Engineer   158800   USD   \n",
       "3  2025.0       Pleno  Tempo Integral       Data Engineer   139200   USD   \n",
       "4  2025.0      Junior  Tempo Integral       Data Engineer    90000   USD   \n",
       "\n",
       "      usd residencia      remoto empresa tamanho_empresa  \n",
       "0  214000         US      Remoto      US           Média  \n",
       "1  136000         US      Remoto      US           Média  \n",
       "2  158800         AU  Presencial      AU           Média  \n",
       "3  139200         AU  Presencial      AU           Média  \n",
       "4   90000         US  Presencial      US           Média  "
      ]
     },
     "execution_count": 112,
     "metadata": {},
     "output_type": "execute_result"
    }
   ],
   "source": [
    "df.head()"
   ]
  },
  {
   "cell_type": "code",
   "execution_count": null,
   "metadata": {
    "executionInfo": {
     "elapsed": 800,
     "status": "ok",
     "timestamp": 1754952465075,
     "user": {
      "displayName": "Gabriel Prange",
      "userId": "11983387267216982138"
     },
     "user_tz": 180
    },
    "id": "BFIUzkUZULFq"
   },
   "outputs": [],
   "source": [
    "df_limpo.to_csv('dados_imersao_final.csv', index=False)"
   ]
  },
  {
   "cell_type": "code",
   "execution_count": null,
   "metadata": {
    "colab": {
     "base_uri": "https://localhost:8080/"
    },
    "executionInfo": {
     "elapsed": 4573,
     "status": "ok",
     "timestamp": 1754952073823,
     "user": {
      "displayName": "Gabriel Prange",
      "userId": "11983387267216982138"
     },
     "user_tz": 180
    },
    "id": "GPfKvGnDQqDE",
    "outputId": "b2729666-1e28-443f-ddf3-ce83a2341c0e"
   },
   "outputs": [
    {
     "name": "stdout",
     "output_type": "stream",
     "text": [
      "Requirement already satisfied: pycountry in /usr/local/lib/python3.11/dist-packages (24.6.1)\n"
     ]
    }
   ],
   "source": [
    "!pip install pycountry\n",
    "#biblioteca para transformar a coluna ['residencia'] para sistema de 3 letras"
   ]
  },
  {
   "cell_type": "code",
   "execution_count": null,
   "metadata": {
    "colab": {
     "base_uri": "https://localhost:8080/",
     "height": 542
    },
    "executionInfo": {
     "elapsed": 430,
     "status": "ok",
     "timestamp": 1754952170246,
     "user": {
      "displayName": "Gabriel Prange",
      "userId": "11983387267216982138"
     },
     "user_tz": 180
    },
    "id": "MCODhoKAQ8as",
    "outputId": "3911f15d-caf7-4089-adce-91101235f742"
   },
   "outputs": [
    {
     "data": {
      "text/html": [
       "<html>\n",
       "<head><meta charset=\"utf-8\" /></head>\n",
       "<body>\n",
       "    <div>            <script src=\"https://cdnjs.cloudflare.com/ajax/libs/mathjax/2.7.5/MathJax.js?config=TeX-AMS-MML_SVG\"></script><script type=\"text/javascript\">if (window.MathJax && window.MathJax.Hub && window.MathJax.Hub.Config) {window.MathJax.Hub.Config({SVG: {font: \"STIX-Web\"}});}</script>                <script type=\"text/javascript\">window.PlotlyConfig = {MathJaxConfig: 'local'};</script>\n",
       "        <script charset=\"utf-8\" src=\"https://cdn.plot.ly/plotly-2.35.2.min.js\"></script>                <div id=\"861684b6-4a6f-4ab9-9ed9-fe27b58d0105\" class=\"plotly-graph-div\" style=\"height:525px; width:100%;\"></div>            <script type=\"text/javascript\">                                    window.PLOTLYENV=window.PLOTLYENV || {};                                    if (document.getElementById(\"861684b6-4a6f-4ab9-9ed9-fe27b58d0105\")) {                    Plotly.newPlot(                        \"861684b6-4a6f-4ab9-9ed9-fe27b58d0105\",                        [{\"coloraxis\":\"coloraxis\",\"geo\":\"geo\",\"hovertemplate\":\"País=%{location}\\u003cbr\\u003eSalário médio (USD)=%{z}\\u003cextra\\u003e\\u003c\\u002fextra\\u003e\",\"locations\":[\"AND\",\"ARG\",\"AUS\",\"AUT\",\"BEL\",\"BGR\",\"BRA\",\"CAN\",\"CHE\",\"CHL\",\"CYP\",\"DEU\",\"DOM\",\"DZA\",\"ECU\",\"EGY\",\"ESP\",\"EST\",\"FIN\",\"FRA\",\"GBR\",\"GRC\",\"HKG\",\"HUN\",\"IND\",\"IRL\",\"ITA\",\"JPN\",\"KEN\",\"KOR\",\"LTU\",\"LVA\",\"MEX\",\"NGA\",\"NLD\",\"NOR\",\"NZL\",\"PAK\",\"PHL\",\"POL\",\"PRT\",\"ROU\",\"RUS\",\"SGP\",\"SRB\",\"SVK\",\"SWE\",\"THA\",\"TUR\",\"TWN\",\"UKR\",\"USA\",\"UZB\",\"ZAF\"],\"name\":\"\",\"z\":[50745.0,42000.0,112190.0,50342.06779661017,66790.75,152500.0,73720.90909090909,140519.98476190475,152256.66666666666,69346.0,63701.0,92253.81355932204,110000.0,100000.0,16000.0,140690.9090909091,46421.42307692308,40000.0,43611.0,90878.25423728813,86264.0601336303,42683.666666666664,65058.0,23935.75,42784.13333333333,89145.39130434782,111401.08333333333,121766.66666666667,50000.0,99272.0,62762.0,61688.5,140466.66666666666,50000.0,70070.9375,88462.0,122929.75,21000.0,76864.0,73466.55555555556,88888.25,39992.0,66500.0,152522.7142857143,25532.0,30522.4,87157.5,26957.0,45019.0,17282.5,85000.0,162802.49460305294,73000.0,44871.75],\"type\":\"choropleth\"}],                        {\"template\":{\"data\":{\"histogram2dcontour\":[{\"type\":\"histogram2dcontour\",\"colorbar\":{\"outlinewidth\":0,\"ticks\":\"\"},\"colorscale\":[[0.0,\"#0d0887\"],[0.1111111111111111,\"#46039f\"],[0.2222222222222222,\"#7201a8\"],[0.3333333333333333,\"#9c179e\"],[0.4444444444444444,\"#bd3786\"],[0.5555555555555556,\"#d8576b\"],[0.6666666666666666,\"#ed7953\"],[0.7777777777777778,\"#fb9f3a\"],[0.8888888888888888,\"#fdca26\"],[1.0,\"#f0f921\"]]}],\"choropleth\":[{\"type\":\"choropleth\",\"colorbar\":{\"outlinewidth\":0,\"ticks\":\"\"}}],\"histogram2d\":[{\"type\":\"histogram2d\",\"colorbar\":{\"outlinewidth\":0,\"ticks\":\"\"},\"colorscale\":[[0.0,\"#0d0887\"],[0.1111111111111111,\"#46039f\"],[0.2222222222222222,\"#7201a8\"],[0.3333333333333333,\"#9c179e\"],[0.4444444444444444,\"#bd3786\"],[0.5555555555555556,\"#d8576b\"],[0.6666666666666666,\"#ed7953\"],[0.7777777777777778,\"#fb9f3a\"],[0.8888888888888888,\"#fdca26\"],[1.0,\"#f0f921\"]]}],\"heatmap\":[{\"type\":\"heatmap\",\"colorbar\":{\"outlinewidth\":0,\"ticks\":\"\"},\"colorscale\":[[0.0,\"#0d0887\"],[0.1111111111111111,\"#46039f\"],[0.2222222222222222,\"#7201a8\"],[0.3333333333333333,\"#9c179e\"],[0.4444444444444444,\"#bd3786\"],[0.5555555555555556,\"#d8576b\"],[0.6666666666666666,\"#ed7953\"],[0.7777777777777778,\"#fb9f3a\"],[0.8888888888888888,\"#fdca26\"],[1.0,\"#f0f921\"]]}],\"heatmapgl\":[{\"type\":\"heatmapgl\",\"colorbar\":{\"outlinewidth\":0,\"ticks\":\"\"},\"colorscale\":[[0.0,\"#0d0887\"],[0.1111111111111111,\"#46039f\"],[0.2222222222222222,\"#7201a8\"],[0.3333333333333333,\"#9c179e\"],[0.4444444444444444,\"#bd3786\"],[0.5555555555555556,\"#d8576b\"],[0.6666666666666666,\"#ed7953\"],[0.7777777777777778,\"#fb9f3a\"],[0.8888888888888888,\"#fdca26\"],[1.0,\"#f0f921\"]]}],\"contourcarpet\":[{\"type\":\"contourcarpet\",\"colorbar\":{\"outlinewidth\":0,\"ticks\":\"\"}}],\"contour\":[{\"type\":\"contour\",\"colorbar\":{\"outlinewidth\":0,\"ticks\":\"\"},\"colorscale\":[[0.0,\"#0d0887\"],[0.1111111111111111,\"#46039f\"],[0.2222222222222222,\"#7201a8\"],[0.3333333333333333,\"#9c179e\"],[0.4444444444444444,\"#bd3786\"],[0.5555555555555556,\"#d8576b\"],[0.6666666666666666,\"#ed7953\"],[0.7777777777777778,\"#fb9f3a\"],[0.8888888888888888,\"#fdca26\"],[1.0,\"#f0f921\"]]}],\"surface\":[{\"type\":\"surface\",\"colorbar\":{\"outlinewidth\":0,\"ticks\":\"\"},\"colorscale\":[[0.0,\"#0d0887\"],[0.1111111111111111,\"#46039f\"],[0.2222222222222222,\"#7201a8\"],[0.3333333333333333,\"#9c179e\"],[0.4444444444444444,\"#bd3786\"],[0.5555555555555556,\"#d8576b\"],[0.6666666666666666,\"#ed7953\"],[0.7777777777777778,\"#fb9f3a\"],[0.8888888888888888,\"#fdca26\"],[1.0,\"#f0f921\"]]}],\"mesh3d\":[{\"type\":\"mesh3d\",\"colorbar\":{\"outlinewidth\":0,\"ticks\":\"\"}}],\"scatter\":[{\"fillpattern\":{\"fillmode\":\"overlay\",\"size\":10,\"solidity\":0.2},\"type\":\"scatter\"}],\"parcoords\":[{\"type\":\"parcoords\",\"line\":{\"colorbar\":{\"outlinewidth\":0,\"ticks\":\"\"}}}],\"scatterpolargl\":[{\"type\":\"scatterpolargl\",\"marker\":{\"colorbar\":{\"outlinewidth\":0,\"ticks\":\"\"}}}],\"bar\":[{\"error_x\":{\"color\":\"#2a3f5f\"},\"error_y\":{\"color\":\"#2a3f5f\"},\"marker\":{\"line\":{\"color\":\"#E5ECF6\",\"width\":0.5},\"pattern\":{\"fillmode\":\"overlay\",\"size\":10,\"solidity\":0.2}},\"type\":\"bar\"}],\"scattergeo\":[{\"type\":\"scattergeo\",\"marker\":{\"colorbar\":{\"outlinewidth\":0,\"ticks\":\"\"}}}],\"scatterpolar\":[{\"type\":\"scatterpolar\",\"marker\":{\"colorbar\":{\"outlinewidth\":0,\"ticks\":\"\"}}}],\"histogram\":[{\"marker\":{\"pattern\":{\"fillmode\":\"overlay\",\"size\":10,\"solidity\":0.2}},\"type\":\"histogram\"}],\"scattergl\":[{\"type\":\"scattergl\",\"marker\":{\"colorbar\":{\"outlinewidth\":0,\"ticks\":\"\"}}}],\"scatter3d\":[{\"type\":\"scatter3d\",\"line\":{\"colorbar\":{\"outlinewidth\":0,\"ticks\":\"\"}},\"marker\":{\"colorbar\":{\"outlinewidth\":0,\"ticks\":\"\"}}}],\"scattermapbox\":[{\"type\":\"scattermapbox\",\"marker\":{\"colorbar\":{\"outlinewidth\":0,\"ticks\":\"\"}}}],\"scatterternary\":[{\"type\":\"scatterternary\",\"marker\":{\"colorbar\":{\"outlinewidth\":0,\"ticks\":\"\"}}}],\"scattercarpet\":[{\"type\":\"scattercarpet\",\"marker\":{\"colorbar\":{\"outlinewidth\":0,\"ticks\":\"\"}}}],\"carpet\":[{\"aaxis\":{\"endlinecolor\":\"#2a3f5f\",\"gridcolor\":\"white\",\"linecolor\":\"white\",\"minorgridcolor\":\"white\",\"startlinecolor\":\"#2a3f5f\"},\"baxis\":{\"endlinecolor\":\"#2a3f5f\",\"gridcolor\":\"white\",\"linecolor\":\"white\",\"minorgridcolor\":\"white\",\"startlinecolor\":\"#2a3f5f\"},\"type\":\"carpet\"}],\"table\":[{\"cells\":{\"fill\":{\"color\":\"#EBF0F8\"},\"line\":{\"color\":\"white\"}},\"header\":{\"fill\":{\"color\":\"#C8D4E3\"},\"line\":{\"color\":\"white\"}},\"type\":\"table\"}],\"barpolar\":[{\"marker\":{\"line\":{\"color\":\"#E5ECF6\",\"width\":0.5},\"pattern\":{\"fillmode\":\"overlay\",\"size\":10,\"solidity\":0.2}},\"type\":\"barpolar\"}],\"pie\":[{\"automargin\":true,\"type\":\"pie\"}]},\"layout\":{\"autotypenumbers\":\"strict\",\"colorway\":[\"#636efa\",\"#EF553B\",\"#00cc96\",\"#ab63fa\",\"#FFA15A\",\"#19d3f3\",\"#FF6692\",\"#B6E880\",\"#FF97FF\",\"#FECB52\"],\"font\":{\"color\":\"#2a3f5f\"},\"hovermode\":\"closest\",\"hoverlabel\":{\"align\":\"left\"},\"paper_bgcolor\":\"white\",\"plot_bgcolor\":\"#E5ECF6\",\"polar\":{\"bgcolor\":\"#E5ECF6\",\"angularaxis\":{\"gridcolor\":\"white\",\"linecolor\":\"white\",\"ticks\":\"\"},\"radialaxis\":{\"gridcolor\":\"white\",\"linecolor\":\"white\",\"ticks\":\"\"}},\"ternary\":{\"bgcolor\":\"#E5ECF6\",\"aaxis\":{\"gridcolor\":\"white\",\"linecolor\":\"white\",\"ticks\":\"\"},\"baxis\":{\"gridcolor\":\"white\",\"linecolor\":\"white\",\"ticks\":\"\"},\"caxis\":{\"gridcolor\":\"white\",\"linecolor\":\"white\",\"ticks\":\"\"}},\"coloraxis\":{\"colorbar\":{\"outlinewidth\":0,\"ticks\":\"\"}},\"colorscale\":{\"sequential\":[[0.0,\"#0d0887\"],[0.1111111111111111,\"#46039f\"],[0.2222222222222222,\"#7201a8\"],[0.3333333333333333,\"#9c179e\"],[0.4444444444444444,\"#bd3786\"],[0.5555555555555556,\"#d8576b\"],[0.6666666666666666,\"#ed7953\"],[0.7777777777777778,\"#fb9f3a\"],[0.8888888888888888,\"#fdca26\"],[1.0,\"#f0f921\"]],\"sequentialminus\":[[0.0,\"#0d0887\"],[0.1111111111111111,\"#46039f\"],[0.2222222222222222,\"#7201a8\"],[0.3333333333333333,\"#9c179e\"],[0.4444444444444444,\"#bd3786\"],[0.5555555555555556,\"#d8576b\"],[0.6666666666666666,\"#ed7953\"],[0.7777777777777778,\"#fb9f3a\"],[0.8888888888888888,\"#fdca26\"],[1.0,\"#f0f921\"]],\"diverging\":[[0,\"#8e0152\"],[0.1,\"#c51b7d\"],[0.2,\"#de77ae\"],[0.3,\"#f1b6da\"],[0.4,\"#fde0ef\"],[0.5,\"#f7f7f7\"],[0.6,\"#e6f5d0\"],[0.7,\"#b8e186\"],[0.8,\"#7fbc41\"],[0.9,\"#4d9221\"],[1,\"#276419\"]]},\"xaxis\":{\"gridcolor\":\"white\",\"linecolor\":\"white\",\"ticks\":\"\",\"title\":{\"standoff\":15},\"zerolinecolor\":\"white\",\"automargin\":true,\"zerolinewidth\":2},\"yaxis\":{\"gridcolor\":\"white\",\"linecolor\":\"white\",\"ticks\":\"\",\"title\":{\"standoff\":15},\"zerolinecolor\":\"white\",\"automargin\":true,\"zerolinewidth\":2},\"scene\":{\"xaxis\":{\"backgroundcolor\":\"#E5ECF6\",\"gridcolor\":\"white\",\"linecolor\":\"white\",\"showbackground\":true,\"ticks\":\"\",\"zerolinecolor\":\"white\",\"gridwidth\":2},\"yaxis\":{\"backgroundcolor\":\"#E5ECF6\",\"gridcolor\":\"white\",\"linecolor\":\"white\",\"showbackground\":true,\"ticks\":\"\",\"zerolinecolor\":\"white\",\"gridwidth\":2},\"zaxis\":{\"backgroundcolor\":\"#E5ECF6\",\"gridcolor\":\"white\",\"linecolor\":\"white\",\"showbackground\":true,\"ticks\":\"\",\"zerolinecolor\":\"white\",\"gridwidth\":2}},\"shapedefaults\":{\"line\":{\"color\":\"#2a3f5f\"}},\"annotationdefaults\":{\"arrowcolor\":\"#2a3f5f\",\"arrowhead\":0,\"arrowwidth\":1},\"geo\":{\"bgcolor\":\"white\",\"landcolor\":\"#E5ECF6\",\"subunitcolor\":\"white\",\"showland\":true,\"showlakes\":true,\"lakecolor\":\"white\"},\"title\":{\"x\":0.05},\"mapbox\":{\"style\":\"light\"}}},\"geo\":{\"domain\":{\"x\":[0.0,1.0],\"y\":[0.0,1.0]},\"center\":{}},\"coloraxis\":{\"colorbar\":{\"title\":{\"text\":\"Salário médio (USD)\"}},\"colorscale\":[[0.0,\"rgb(165,0,38)\"],[0.1,\"rgb(215,48,39)\"],[0.2,\"rgb(244,109,67)\"],[0.3,\"rgb(253,174,97)\"],[0.4,\"rgb(254,224,139)\"],[0.5,\"rgb(255,255,191)\"],[0.6,\"rgb(217,239,139)\"],[0.7,\"rgb(166,217,106)\"],[0.8,\"rgb(102,189,99)\"],[0.9,\"rgb(26,152,80)\"],[1.0,\"rgb(0,104,55)\"]]},\"legend\":{\"tracegroupgap\":0},\"title\":{\"text\":\"Salário médio de Cientista de Dados por país\"}},                        {\"responsive\": true}                    ).then(function(){\n",
       "                            \n",
       "var gd = document.getElementById('861684b6-4a6f-4ab9-9ed9-fe27b58d0105');\n",
       "var x = new MutationObserver(function (mutations, observer) {{\n",
       "        var display = window.getComputedStyle(gd).display;\n",
       "        if (!display || display === 'none') {{\n",
       "            console.log([gd, 'removed!']);\n",
       "            Plotly.purge(gd);\n",
       "            observer.disconnect();\n",
       "        }}\n",
       "}});\n",
       "\n",
       "// Listen for the removal of the full notebook cells\n",
       "var notebookContainer = gd.closest('#notebook-container');\n",
       "if (notebookContainer) {{\n",
       "    x.observe(notebookContainer, {childList: true});\n",
       "}}\n",
       "\n",
       "// Listen for the clearing of the current output cell\n",
       "var outputEl = gd.closest('.output');\n",
       "if (outputEl) {{\n",
       "    x.observe(outputEl, {childList: true});\n",
       "}}\n",
       "\n",
       "                        })                };                            </script>        </div>\n",
       "</body>\n",
       "</html>"
      ]
     },
     "metadata": {},
     "output_type": "display_data"
    }
   ],
   "source": [
    "import pycountry\n",
    "\n",
    "# Função para converter ISO-2 para ISO-3\n",
    "def iso2_to_iso3(code):\n",
    "    try:\n",
    "        return pycountry.countries.get(alpha_2=code).alpha_3\n",
    "    except:\n",
    "        return None\n",
    "\n",
    "# Criar nova coluna com código ISO-3\n",
    "df_limpo['residencia_iso3'] = df_limpo['residencia'].apply(iso2_to_iso3)\n",
    "\n",
    "# Calcular média salarial por país (ISO-3)\n",
    "df_ds = df_limpo[df_limpo['cargo'] == 'Data Scientist']\n",
    "media_ds_pais = df_ds.groupby('residencia_iso3')['usd'].mean().reset_index()\n",
    "\n",
    "# Gerar o mapa\n",
    "fig = px.choropleth(media_ds_pais,\n",
    "                    locations='residencia_iso3',\n",
    "                    color='usd',\n",
    "                    color_continuous_scale='rdylgn',\n",
    "                    title='Salário médio de Cientista de Dados por país',\n",
    "                    labels={'usd': 'Salário médio (USD)', 'residencia_iso3': 'País'})\n",
    "\n",
    "fig.show()"
   ]
  }
 ],
 "metadata": {
  "colab": {
   "authorship_tag": "ABX9TyMfkB2zNYptlvhXy220wnqe",
   "provenance": []
  },
  "kernelspec": {
   "display_name": "Python 3",
   "name": "python3"
  },
  "language_info": {
   "codemirror_mode": {
    "name": "ipython",
    "version": 3
   },
   "file_extension": ".py",
   "mimetype": "text/x-python",
   "name": "python",
   "nbconvert_exporter": "python",
   "pygments_lexer": "ipython3",
   "version": "3.13.6"
  }
 },
 "nbformat": 4,
 "nbformat_minor": 0
}
